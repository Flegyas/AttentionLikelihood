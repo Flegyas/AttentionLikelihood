{
 "cells": [
  {
   "cell_type": "code",
   "execution_count": 1,
   "metadata": {},
   "outputs": [],
   "source": [
    "%load_ext autoreload\n",
    "%autoreload 2"
   ]
  },
  {
   "cell_type": "code",
   "execution_count": 2,
   "metadata": {},
   "outputs": [
    {
     "data": {
      "text/html": [
       "<pre style=\"white-space:pre;overflow-x:auto;line-height:normal;font-family:Menlo,'DejaVu Sans Mono',consolas,'Courier New',monospace\"><span style=\"color: #7fbfbf; text-decoration-color: #7fbfbf\">2023-04-14 17:20:59 </span><span style=\"color: #000080; text-decoration-color: #000080\">INFO    </span> Created a temporary directory at              <a href=\"file:///home/valentino/miniconda3/envs/attlike/lib/python3.10/site-packages/torch/distributed/nn/jit/instantiator.py\" target=\"_blank\"><span style=\"color: #7f7f7f; text-decoration-color: #7f7f7f\">torch.distributed.nn.jit.instantiator</span></a><span style=\"color: #7f7f7f; text-decoration-color: #7f7f7f\">:</span><a href=\"file:///home/valentino/miniconda3/envs/attlike/lib/python3.10/site-packages/torch/distributed/nn/jit/instantiator.py#21\" target=\"_blank\"><span style=\"color: #7f7f7f; text-decoration-color: #7f7f7f\">21</span></a>\n",
       "<span style=\"color: #7fbfbf; text-decoration-color: #7fbfbf\">                    </span>         <span style=\"color: #800080; text-decoration-color: #800080\">/tmp/</span><span style=\"color: #ff00ff; text-decoration-color: #ff00ff\">tmp400xhr4f</span>                              <span style=\"color: #7f7f7f; text-decoration-color: #7f7f7f\">                                        </span>\n",
       "</pre>\n"
      ],
      "text/plain": [
       "\u001b[2;36m2023-04-14 17:20:59\u001b[0m\u001b[2;36m \u001b[0m\u001b[34mINFO    \u001b[0m Created a temporary directory at              \u001b]8;id=73227;file:///home/valentino/miniconda3/envs/attlike/lib/python3.10/site-packages/torch/distributed/nn/jit/instantiator.py\u001b\\\u001b[2mtorch.distributed.nn.jit.instantiator\u001b[0m\u001b]8;;\u001b\\\u001b[2m:\u001b[0m\u001b]8;id=255017;file:///home/valentino/miniconda3/envs/attlike/lib/python3.10/site-packages/torch/distributed/nn/jit/instantiator.py#21\u001b\\\u001b[2m21\u001b[0m\u001b]8;;\u001b\\\n",
       "\u001b[2;36m                    \u001b[0m         \u001b[35m/tmp/\u001b[0m\u001b[95mtmp400xhr4f\u001b[0m                              \u001b[2m                                        \u001b[0m\n"
      ]
     },
     "metadata": {},
     "output_type": "display_data"
    },
    {
     "data": {
      "text/html": [
       "<pre style=\"white-space:pre;overflow-x:auto;line-height:normal;font-family:Menlo,'DejaVu Sans Mono',consolas,'Courier New',monospace\"><span style=\"color: #7fbfbf; text-decoration-color: #7fbfbf\">                    </span><span style=\"color: #000080; text-decoration-color: #000080\">INFO    </span> Writing                                       <a href=\"file:///home/valentino/miniconda3/envs/attlike/lib/python3.10/site-packages/torch/distributed/nn/jit/instantiator.py\" target=\"_blank\"><span style=\"color: #7f7f7f; text-decoration-color: #7f7f7f\">torch.distributed.nn.jit.instantiator</span></a><span style=\"color: #7f7f7f; text-decoration-color: #7f7f7f\">:</span><a href=\"file:///home/valentino/miniconda3/envs/attlike/lib/python3.10/site-packages/torch/distributed/nn/jit/instantiator.py#76\" target=\"_blank\"><span style=\"color: #7f7f7f; text-decoration-color: #7f7f7f\">76</span></a>\n",
       "<span style=\"color: #7fbfbf; text-decoration-color: #7fbfbf\">                    </span>         <span style=\"color: #800080; text-decoration-color: #800080\">/tmp/tmp400xhr4f/</span><span style=\"color: #ff00ff; text-decoration-color: #ff00ff\">_remote_module_non_scriptabl</span> <span style=\"color: #7f7f7f; text-decoration-color: #7f7f7f\">                                        </span>\n",
       "<span style=\"color: #7fbfbf; text-decoration-color: #7fbfbf\">                    </span>         <span style=\"color: #ff00ff; text-decoration-color: #ff00ff\">e.py</span>                                          <span style=\"color: #7f7f7f; text-decoration-color: #7f7f7f\">                                        </span>\n",
       "</pre>\n"
      ],
      "text/plain": [
       "\u001b[2;36m                   \u001b[0m\u001b[2;36m \u001b[0m\u001b[34mINFO    \u001b[0m Writing                                       \u001b]8;id=860361;file:///home/valentino/miniconda3/envs/attlike/lib/python3.10/site-packages/torch/distributed/nn/jit/instantiator.py\u001b\\\u001b[2mtorch.distributed.nn.jit.instantiator\u001b[0m\u001b]8;;\u001b\\\u001b[2m:\u001b[0m\u001b]8;id=48779;file:///home/valentino/miniconda3/envs/attlike/lib/python3.10/site-packages/torch/distributed/nn/jit/instantiator.py#76\u001b\\\u001b[2m76\u001b[0m\u001b]8;;\u001b\\\n",
       "\u001b[2;36m                    \u001b[0m         \u001b[35m/tmp/tmp400xhr4f/\u001b[0m\u001b[95m_remote_module_non_scriptabl\u001b[0m \u001b[2m                                        \u001b[0m\n",
       "\u001b[2;36m                    \u001b[0m         \u001b[95me.py\u001b[0m                                          \u001b[2m                                        \u001b[0m\n"
      ]
     },
     "metadata": {},
     "output_type": "display_data"
    }
   ],
   "source": [
    "import pandas as pd\n",
    "import torch\n",
    "from attlike.utils import load_data, LikelihoodMode\n",
    "from pathlib import Path\n",
    "from datasets import DatasetDict\n",
    "from pathlib import Path\n",
    "import numpy as np\n",
    "from nn_core.common import PROJECT_ROOT"
   ]
  },
  {
   "cell_type": "code",
   "execution_count": 3,
   "metadata": {},
   "outputs": [],
   "source": [
    "DATA_DIR: Path = PROJECT_ROOT / \"data\""
   ]
  },
  {
   "cell_type": "code",
   "execution_count": 4,
   "metadata": {},
   "outputs": [
    {
     "data": {
      "text/plain": [
       "dict_keys(['low', 'lowest', 'high', 'real', 'highest', 'mid'])"
      ]
     },
     "execution_count": 4,
     "metadata": {},
     "output_type": "execute_result"
    }
   ],
   "source": [
    "likelihood2encoder2data = DatasetDict(\n",
    "    {\n",
    "        likelihood_path.name: DatasetDict.load_from_disk(likelihood_path)\n",
    "        for likelihood_path in (DATA_DIR / \"likelihoods\").iterdir()\n",
    "        if not likelihood_path.name.endswith(\".json\")\n",
    "    }\n",
    ")\n",
    "likelihood2encoder2data.keys()"
   ]
  },
  {
   "cell_type": "code",
   "execution_count": 5,
   "metadata": {},
   "outputs": [
    {
     "name": "stdout",
     "output_type": "stream",
     "text": [
      "Sentence: she was able to program her computer | able - Drop\n",
      "Sentence: we were at last able to buy a car | able - physical\n",
      "Sentence: able to get a grant for the project | able - protr\n",
      "Sentence: unable to get to town without a car | unable - MIC Hau\n",
      "Sentence: the abaxial surface of a leaf is the underside or side facing away from the stem | abaxial - KS IdleWeapons\n",
      "Sentence: the upper side of a leaf is known as the adaxial surface | adaxial - OSH RankedIGHTS\n",
      "Sentence: a potted version of a novel | potted - Alias GEAR\n",
      "Sentence: she is a living doll | living - headers\n",
      "Sentence: scared the living daylights out of them | living - operator\n",
      "Sentence: beat the living hell out of him | living - Modes\n",
      "Sentence: as absorbent as a sponge | absorbent - Flying Swordsman\n"
     ]
    }
   ],
   "source": [
    "likelihood_mode1 = \"real\"\n",
    "likelihood_mode2 = LikelihoodMode.LOWEST\n",
    "encoder: str = \"roberta-base\"\n",
    "n: int = 10\n",
    "\n",
    "for i, (sample1, sample2) in enumerate(\n",
    "    zip(\n",
    "        likelihood2encoder2data[likelihood_mode1][encoder],\n",
    "        likelihood2encoder2data[likelihood_mode2][encoder],\n",
    "    )\n",
    "):\n",
    "    if sample1[\"lemma\"].strip() != sample2[\"lemma\"].strip():\n",
    "        print(f\"Sentence: {sample1['sentence']} | {sample1['lemma']} - {sample2['lemma'].strip()}\")\n",
    "\n",
    "    if i >= n:\n",
    "        break"
   ]
  },
  {
   "cell_type": "code",
   "execution_count": 6,
   "metadata": {},
   "outputs": [],
   "source": [
    "from torchmetrics.functional import spearman_corrcoef as corrcoef\n",
    "\n",
    "correlation_df = {\n",
    "    \"likelihood_mode\": [],\n",
    "    \"inner_likelihood\": [],\n",
    "    \"attention\": [],\n",
    "    \"inner_attention\": [],\n",
    "    \"outer_attention\": [],\n",
    "    \"encoder\": [],\n",
    "    \"layer\": [],\n",
    "    \"correlation\": [],\n",
    "    \"inner_likelihood_std\": [],\n",
    "    \"attention_std\": [],\n",
    "    \"inner_attention_std\": [],\n",
    "    \"outer_attention_std\": [],\n",
    "}\n",
    "\n",
    "for likelihood, encoder2data in list(likelihood2encoder2data.items()):\n",
    "    x = []\n",
    "    for encoder_name, encoder_data in list(encoder2data.items()):\n",
    "        for layer in range(50):\n",
    "            if f\"inner_attention_{layer}_mean\" not in encoder_data.column_names:\n",
    "                continue\n",
    "            correlation_df[\"likelihood_mode\"].append(likelihood)\n",
    "            correlation_df[\"inner_likelihood\"].append(encoder_data[\"inner_likelihoods_mean\"].mean().item())\n",
    "            correlation_df[\"inner_likelihood_std\"].append(encoder_data[\"inner_likelihoods_mean\"].std().item())\n",
    "            correlation_df[\"inner_attention\"].append(encoder_data[f\"inner_attention_{layer}_mean\"].mean().item())\n",
    "            correlation_df[\"inner_attention_std\"].append(encoder_data[f\"inner_attention_{layer}_mean\"].std().item())\n",
    "            correlation_df[\"outer_attention\"].append(encoder_data[f\"outer_attention_{layer}_mean\"].mean().item())\n",
    "            correlation_df[\"outer_attention_std\"].append(encoder_data[f\"outer_attention_{layer}_mean\"].std().item())\n",
    "            correlation_df[\"attention\"].append(encoder_data[f\"attention_{layer}_mean\"].mean().item())\n",
    "            correlation_df[\"attention_std\"].append(encoder_data[f\"attention_{layer}_mean\"].std().item())\n",
    "            correlation_df[\"encoder\"].append(encoder_name)\n",
    "            correlation_df[\"layer\"].append(layer)\n",
    "            correlation = corrcoef(\n",
    "                encoder_data[\"inner_likelihoods_mean\"].squeeze(-1),\n",
    "                encoder_data[f\"inner_attention_{layer}_mean\"].squeeze(-1),\n",
    "            ).item()\n",
    "            correlation_df[\"correlation\"].append(correlation)\n",
    "correlation_df = pd.DataFrame(correlation_df)"
   ]
  },
  {
   "cell_type": "code",
   "execution_count": 7,
   "metadata": {},
   "outputs": [
    {
     "data": {
      "text/html": [
       "<div>\n",
       "<style scoped>\n",
       "    .dataframe tbody tr th:only-of-type {\n",
       "        vertical-align: middle;\n",
       "    }\n",
       "\n",
       "    .dataframe tbody tr th {\n",
       "        vertical-align: top;\n",
       "    }\n",
       "\n",
       "    .dataframe thead th {\n",
       "        text-align: right;\n",
       "    }\n",
       "</style>\n",
       "<table border=\"1\" class=\"dataframe\">\n",
       "  <thead>\n",
       "    <tr style=\"text-align: right;\">\n",
       "      <th></th>\n",
       "      <th>encoder</th>\n",
       "      <th>layer</th>\n",
       "      <th>correlation</th>\n",
       "      <th>inner_likelihood</th>\n",
       "    </tr>\n",
       "  </thead>\n",
       "  <tbody>\n",
       "    <tr>\n",
       "      <th>75</th>\n",
       "      <td>bert-base-uncased</td>\n",
       "      <td>9</td>\n",
       "      <td>0.642901</td>\n",
       "      <td>0.095786</td>\n",
       "    </tr>\n",
       "    <tr>\n",
       "      <th>130</th>\n",
       "      <td>distilbert-base-uncased</td>\n",
       "      <td>4</td>\n",
       "      <td>0.687584</td>\n",
       "      <td>0.016773</td>\n",
       "    </tr>\n",
       "    <tr>\n",
       "      <th>155</th>\n",
       "      <td>roberta-base</td>\n",
       "      <td>11</td>\n",
       "      <td>0.801689</td>\n",
       "      <td>0.072483</td>\n",
       "    </tr>\n",
       "    <tr>\n",
       "      <th>191</th>\n",
       "      <td>roberta-large</td>\n",
       "      <td>23</td>\n",
       "      <td>0.822567</td>\n",
       "      <td>0.054967</td>\n",
       "    </tr>\n",
       "    <tr>\n",
       "      <th>365</th>\n",
       "      <td>xlm-roberta-base</td>\n",
       "      <td>11</td>\n",
       "      <td>0.766631</td>\n",
       "      <td>0.017382</td>\n",
       "    </tr>\n",
       "  </tbody>\n",
       "</table>\n",
       "</div>"
      ],
      "text/plain": [
       "                     encoder  layer  correlation  inner_likelihood\n",
       "75         bert-base-uncased      9     0.642901          0.095786\n",
       "130  distilbert-base-uncased      4     0.687584          0.016773\n",
       "155             roberta-base     11     0.801689          0.072483\n",
       "191            roberta-large     23     0.822567          0.054967\n",
       "365         xlm-roberta-base     11     0.766631          0.017382"
      ]
     },
     "execution_count": 7,
     "metadata": {},
     "output_type": "execute_result"
    }
   ],
   "source": [
    "idx = (\n",
    "    correlation_df.groupby([\"encoder\",])[\n",
    "        \"correlation\"\n",
    "    ].transform(max)\n",
    "    == correlation_df[\"correlation\"]\n",
    ")\n",
    "correlation_df[idx][[\"encoder\", \"layer\", \"correlation\", \"inner_likelihood\"]]"
   ]
  },
  {
   "cell_type": "code",
   "execution_count": 8,
   "metadata": {},
   "outputs": [
    {
     "data": {
      "text/plain": [
       "{'bert-base-uncased': 0.663658618927002,\n",
       " 'distilbert-base-uncased': 0.7850713133811951,\n",
       " 'roberta-base': 0.9384443163871765,\n",
       " 'roberta-large': 0.947394609451294,\n",
       " 'xlm-roberta-base': 0.9425700306892395}"
      ]
     },
     "execution_count": 8,
     "metadata": {},
     "output_type": "execute_result"
    }
   ],
   "source": [
    "real_likelihoods = (\n",
    "    correlation_df[correlation_df.likelihood_mode == \"real\"]\n",
    "    .groupby(\"encoder\")[\"inner_likelihood\"]\n",
    "    .aggregate([\"max\"])\n",
    "    .to_dict()[\"max\"]\n",
    ")\n",
    "real_likelihoods"
   ]
  },
  {
   "cell_type": "code",
   "execution_count": 9,
   "metadata": {},
   "outputs": [
    {
     "data": {
      "text/html": [
       "<div>\n",
       "<style scoped>\n",
       "    .dataframe tbody tr th:only-of-type {\n",
       "        vertical-align: middle;\n",
       "    }\n",
       "\n",
       "    .dataframe tbody tr th {\n",
       "        vertical-align: top;\n",
       "    }\n",
       "\n",
       "    .dataframe thead th {\n",
       "        text-align: right;\n",
       "    }\n",
       "</style>\n",
       "<table border=\"1\" class=\"dataframe\">\n",
       "  <thead>\n",
       "    <tr style=\"text-align: right;\">\n",
       "      <th></th>\n",
       "      <th>likelihood_mode</th>\n",
       "      <th>inner_likelihood</th>\n",
       "      <th>attention</th>\n",
       "      <th>inner_attention</th>\n",
       "      <th>outer_attention</th>\n",
       "      <th>encoder</th>\n",
       "      <th>layer</th>\n",
       "      <th>correlation</th>\n",
       "      <th>inner_likelihood_std</th>\n",
       "      <th>attention_std</th>\n",
       "      <th>inner_attention_std</th>\n",
       "      <th>outer_attention_std</th>\n",
       "      <th>inner_likelihood_real</th>\n",
       "    </tr>\n",
       "  </thead>\n",
       "  <tbody>\n",
       "    <tr>\n",
       "      <th>0</th>\n",
       "      <td>low</td>\n",
       "      <td>0.14524</td>\n",
       "      <td>0.09881</td>\n",
       "      <td>0.113051</td>\n",
       "      <td>0.098257</td>\n",
       "      <td>bert-base-uncased</td>\n",
       "      <td>0</td>\n",
       "      <td>0.003345</td>\n",
       "      <td>0.24419</td>\n",
       "      <td>0.025692</td>\n",
       "      <td>0.034307</td>\n",
       "      <td>0.025969</td>\n",
       "      <td>0.663659</td>\n",
       "    </tr>\n",
       "    <tr>\n",
       "      <th>1</th>\n",
       "      <td>low</td>\n",
       "      <td>0.14524</td>\n",
       "      <td>0.09881</td>\n",
       "      <td>0.053262</td>\n",
       "      <td>0.100248</td>\n",
       "      <td>bert-base-uncased</td>\n",
       "      <td>1</td>\n",
       "      <td>0.037827</td>\n",
       "      <td>0.24419</td>\n",
       "      <td>0.025692</td>\n",
       "      <td>0.019007</td>\n",
       "      <td>0.026191</td>\n",
       "      <td>0.663659</td>\n",
       "    </tr>\n",
       "    <tr>\n",
       "      <th>2</th>\n",
       "      <td>low</td>\n",
       "      <td>0.14524</td>\n",
       "      <td>0.09881</td>\n",
       "      <td>0.084208</td>\n",
       "      <td>0.099141</td>\n",
       "      <td>bert-base-uncased</td>\n",
       "      <td>2</td>\n",
       "      <td>0.448137</td>\n",
       "      <td>0.24419</td>\n",
       "      <td>0.025692</td>\n",
       "      <td>0.025533</td>\n",
       "      <td>0.026237</td>\n",
       "      <td>0.663659</td>\n",
       "    </tr>\n",
       "    <tr>\n",
       "      <th>3</th>\n",
       "      <td>low</td>\n",
       "      <td>0.14524</td>\n",
       "      <td>0.09881</td>\n",
       "      <td>0.054403</td>\n",
       "      <td>0.099830</td>\n",
       "      <td>bert-base-uncased</td>\n",
       "      <td>3</td>\n",
       "      <td>0.256296</td>\n",
       "      <td>0.24419</td>\n",
       "      <td>0.025692</td>\n",
       "      <td>0.023566</td>\n",
       "      <td>0.026345</td>\n",
       "      <td>0.663659</td>\n",
       "    </tr>\n",
       "    <tr>\n",
       "      <th>4</th>\n",
       "      <td>low</td>\n",
       "      <td>0.14524</td>\n",
       "      <td>0.09881</td>\n",
       "      <td>0.064569</td>\n",
       "      <td>0.099763</td>\n",
       "      <td>bert-base-uncased</td>\n",
       "      <td>4</td>\n",
       "      <td>0.084421</td>\n",
       "      <td>0.24419</td>\n",
       "      <td>0.025692</td>\n",
       "      <td>0.021179</td>\n",
       "      <td>0.026200</td>\n",
       "      <td>0.663659</td>\n",
       "    </tr>\n",
       "  </tbody>\n",
       "</table>\n",
       "</div>"
      ],
      "text/plain": [
       "  likelihood_mode  inner_likelihood  attention  inner_attention  \\\n",
       "0             low           0.14524    0.09881         0.113051   \n",
       "1             low           0.14524    0.09881         0.053262   \n",
       "2             low           0.14524    0.09881         0.084208   \n",
       "3             low           0.14524    0.09881         0.054403   \n",
       "4             low           0.14524    0.09881         0.064569   \n",
       "\n",
       "   outer_attention            encoder  layer  correlation  \\\n",
       "0         0.098257  bert-base-uncased      0     0.003345   \n",
       "1         0.100248  bert-base-uncased      1     0.037827   \n",
       "2         0.099141  bert-base-uncased      2     0.448137   \n",
       "3         0.099830  bert-base-uncased      3     0.256296   \n",
       "4         0.099763  bert-base-uncased      4     0.084421   \n",
       "\n",
       "   inner_likelihood_std  attention_std  inner_attention_std  \\\n",
       "0               0.24419       0.025692             0.034307   \n",
       "1               0.24419       0.025692             0.019007   \n",
       "2               0.24419       0.025692             0.025533   \n",
       "3               0.24419       0.025692             0.023566   \n",
       "4               0.24419       0.025692             0.021179   \n",
       "\n",
       "   outer_attention_std  inner_likelihood_real  \n",
       "0             0.025969               0.663659  \n",
       "1             0.026191               0.663659  \n",
       "2             0.026237               0.663659  \n",
       "3             0.026345               0.663659  \n",
       "4             0.026200               0.663659  "
      ]
     },
     "execution_count": 9,
     "metadata": {},
     "output_type": "execute_result"
    }
   ],
   "source": [
    "correlation_df[\"inner_likelihood_real\"] = correlation_df[\"encoder\"].map(real_likelihoods)\n",
    "correlation_df.head()"
   ]
  },
  {
   "cell_type": "code",
   "execution_count": 10,
   "metadata": {},
   "outputs": [
    {
     "data": {
      "text/plain": [
       "264"
      ]
     },
     "execution_count": 10,
     "metadata": {},
     "output_type": "execute_result"
    }
   ],
   "source": [
    "lower_likelihood_df = correlation_df[correlation_df.inner_likelihood < correlation_df.inner_likelihood_real]\n",
    "len(lower_likelihood_df)"
   ]
  },
  {
   "cell_type": "code",
   "execution_count": 11,
   "metadata": {},
   "outputs": [
    {
     "data": {
      "text/html": [
       "<div>\n",
       "<style scoped>\n",
       "    .dataframe tbody tr th:only-of-type {\n",
       "        vertical-align: middle;\n",
       "    }\n",
       "\n",
       "    .dataframe tbody tr th {\n",
       "        vertical-align: top;\n",
       "    }\n",
       "\n",
       "    .dataframe thead th {\n",
       "        text-align: right;\n",
       "    }\n",
       "</style>\n",
       "<table border=\"1\" class=\"dataframe\">\n",
       "  <thead>\n",
       "    <tr style=\"text-align: right;\">\n",
       "      <th></th>\n",
       "      <th>encoder</th>\n",
       "      <th>layer</th>\n",
       "      <th>attention</th>\n",
       "      <th>attention_std</th>\n",
       "      <th>inner_attention</th>\n",
       "      <th>inner_attention_std</th>\n",
       "      <th>outer_attention</th>\n",
       "      <th>outer_attention_std</th>\n",
       "      <th>inner_likelihood</th>\n",
       "      <th>inner_likelihood_std</th>\n",
       "      <th>correlation</th>\n",
       "      <th>likelihood_mode</th>\n",
       "    </tr>\n",
       "  </thead>\n",
       "  <tbody>\n",
       "    <tr>\n",
       "      <th>75</th>\n",
       "      <td>bert-base-uncased</td>\n",
       "      <td>9</td>\n",
       "      <td>0.098810</td>\n",
       "      <td>0.025692</td>\n",
       "      <td>0.062833</td>\n",
       "      <td>0.041480</td>\n",
       "      <td>0.099721</td>\n",
       "      <td>0.026314</td>\n",
       "      <td>0.095786</td>\n",
       "      <td>0.197539</td>\n",
       "      <td>0.642901</td>\n",
       "      <td>lowest</td>\n",
       "    </tr>\n",
       "    <tr>\n",
       "      <th>130</th>\n",
       "      <td>distilbert-base-uncased</td>\n",
       "      <td>4</td>\n",
       "      <td>0.098810</td>\n",
       "      <td>0.025692</td>\n",
       "      <td>0.045426</td>\n",
       "      <td>0.035298</td>\n",
       "      <td>0.099993</td>\n",
       "      <td>0.026461</td>\n",
       "      <td>0.016773</td>\n",
       "      <td>0.068814</td>\n",
       "      <td>0.687584</td>\n",
       "      <td>lowest</td>\n",
       "    </tr>\n",
       "    <tr>\n",
       "      <th>155</th>\n",
       "      <td>roberta-base</td>\n",
       "      <td>11</td>\n",
       "      <td>0.099556</td>\n",
       "      <td>0.024887</td>\n",
       "      <td>0.042647</td>\n",
       "      <td>0.032833</td>\n",
       "      <td>0.100869</td>\n",
       "      <td>0.025637</td>\n",
       "      <td>0.072483</td>\n",
       "      <td>0.173935</td>\n",
       "      <td>0.801689</td>\n",
       "      <td>high</td>\n",
       "    </tr>\n",
       "    <tr>\n",
       "      <th>191</th>\n",
       "      <td>roberta-large</td>\n",
       "      <td>23</td>\n",
       "      <td>0.099556</td>\n",
       "      <td>0.024887</td>\n",
       "      <td>0.046074</td>\n",
       "      <td>0.035148</td>\n",
       "      <td>0.100755</td>\n",
       "      <td>0.025544</td>\n",
       "      <td>0.054967</td>\n",
       "      <td>0.149300</td>\n",
       "      <td>0.822567</td>\n",
       "      <td>high</td>\n",
       "    </tr>\n",
       "    <tr>\n",
       "      <th>365</th>\n",
       "      <td>xlm-roberta-base</td>\n",
       "      <td>11</td>\n",
       "      <td>0.089392</td>\n",
       "      <td>0.023990</td>\n",
       "      <td>0.050840</td>\n",
       "      <td>0.033801</td>\n",
       "      <td>0.090406</td>\n",
       "      <td>0.024606</td>\n",
       "      <td>0.017382</td>\n",
       "      <td>0.070976</td>\n",
       "      <td>0.766631</td>\n",
       "      <td>mid</td>\n",
       "    </tr>\n",
       "  </tbody>\n",
       "</table>\n",
       "</div>"
      ],
      "text/plain": [
       "                     encoder  layer  attention  attention_std  \\\n",
       "75         bert-base-uncased      9   0.098810       0.025692   \n",
       "130  distilbert-base-uncased      4   0.098810       0.025692   \n",
       "155             roberta-base     11   0.099556       0.024887   \n",
       "191            roberta-large     23   0.099556       0.024887   \n",
       "365         xlm-roberta-base     11   0.089392       0.023990   \n",
       "\n",
       "     inner_attention  inner_attention_std  outer_attention  \\\n",
       "75          0.062833             0.041480         0.099721   \n",
       "130         0.045426             0.035298         0.099993   \n",
       "155         0.042647             0.032833         0.100869   \n",
       "191         0.046074             0.035148         0.100755   \n",
       "365         0.050840             0.033801         0.090406   \n",
       "\n",
       "     outer_attention_std  inner_likelihood  inner_likelihood_std  correlation  \\\n",
       "75              0.026314          0.095786              0.197539     0.642901   \n",
       "130             0.026461          0.016773              0.068814     0.687584   \n",
       "155             0.025637          0.072483              0.173935     0.801689   \n",
       "191             0.025544          0.054967              0.149300     0.822567   \n",
       "365             0.024606          0.017382              0.070976     0.766631   \n",
       "\n",
       "    likelihood_mode  \n",
       "75           lowest  \n",
       "130          lowest  \n",
       "155            high  \n",
       "191            high  \n",
       "365             mid  "
      ]
     },
     "execution_count": 11,
     "metadata": {},
     "output_type": "execute_result"
    }
   ],
   "source": [
    "max_idx = (\n",
    "    lower_likelihood_df.groupby([\"encoder\",])[\n",
    "        \"correlation\"\n",
    "    ].transform(max)\n",
    "    == lower_likelihood_df[\"correlation\"]\n",
    ")\n",
    "min_idx = (\n",
    "    lower_likelihood_df.groupby([\"encoder\",])[\n",
    "        \"correlation\"\n",
    "    ].transform(min)\n",
    "    == lower_likelihood_df[\"correlation\"]\n",
    ")\n",
    "\n",
    "max_lower_likelihood_df = lower_likelihood_df[max_idx].copy()\n",
    "max_lower_likelihood_df[\"target_correlation\"] = \"max\"\n",
    "\n",
    "min_lower_likelihood_df = lower_likelihood_df[min_idx].copy()\n",
    "min_lower_likelihood_df[\"target_correlation\"] = \"min\"\n",
    "\n",
    "# perturbed_df = pd.concat([max_lower_likelihood_df, min_lower_likelihood_df])\n",
    "perturbed_df = max_lower_likelihood_df\n",
    "perturbed_df = perturbed_df[perturbed_df.encoder != \"albert-base-v2\"]\n",
    "perturbed_df = perturbed_df[\n",
    "    [\n",
    "        \"encoder\",\n",
    "        # \"target_correlation\",\n",
    "        \"layer\",\n",
    "        \"attention\",\n",
    "        \"attention_std\",\n",
    "        \"inner_attention\",\n",
    "        \"inner_attention_std\",\n",
    "        \"outer_attention\",\n",
    "        \"outer_attention_std\",\n",
    "        \"inner_likelihood\",\n",
    "        \"inner_likelihood_std\",\n",
    "        \"correlation\",\n",
    "        \"likelihood_mode\",\n",
    "    ]\n",
    "]\n",
    "perturbed_df.head()"
   ]
  },
  {
   "cell_type": "code",
   "execution_count": 12,
   "metadata": {},
   "outputs": [],
   "source": [
    "real_df = correlation_df[(correlation_df[\"likelihood_mode\"] == \"real\")]\n",
    "real_df = real_df[\n",
    "    [\n",
    "        \"encoder\",\n",
    "        # \"target_correlation\",\n",
    "        \"layer\",\n",
    "        \"attention\",\n",
    "        \"attention_std\",\n",
    "        \"inner_attention\",\n",
    "        \"inner_attention_std\",\n",
    "        \"outer_attention\",\n",
    "        \"outer_attention_std\",\n",
    "        \"inner_likelihood\",\n",
    "        \"inner_likelihood_std\",\n",
    "        \"correlation\",\n",
    "        \"likelihood_mode\",\n",
    "    ]\n",
    "]"
   ]
  },
  {
   "cell_type": "code",
   "execution_count": 13,
   "metadata": {},
   "outputs": [
    {
     "data": {
      "text/html": [
       "<div>\n",
       "<style scoped>\n",
       "    .dataframe tbody tr th:only-of-type {\n",
       "        vertical-align: middle;\n",
       "    }\n",
       "\n",
       "    .dataframe tbody tr th {\n",
       "        vertical-align: top;\n",
       "    }\n",
       "\n",
       "    .dataframe thead th {\n",
       "        text-align: right;\n",
       "    }\n",
       "</style>\n",
       "<table border=\"1\" class=\"dataframe\">\n",
       "  <thead>\n",
       "    <tr style=\"text-align: right;\">\n",
       "      <th></th>\n",
       "      <th>encoder</th>\n",
       "      <th>layer</th>\n",
       "      <th>attention_real</th>\n",
       "      <th>attention_std_real</th>\n",
       "      <th>inner_attention_real</th>\n",
       "      <th>inner_attention_std_real</th>\n",
       "      <th>outer_attention_real</th>\n",
       "      <th>outer_attention_std_real</th>\n",
       "      <th>inner_likelihood_real</th>\n",
       "      <th>inner_likelihood_std_real</th>\n",
       "      <th>...</th>\n",
       "      <th>attention_perturbed</th>\n",
       "      <th>attention_std_perturbed</th>\n",
       "      <th>inner_attention_perturbed</th>\n",
       "      <th>inner_attention_std_perturbed</th>\n",
       "      <th>outer_attention_perturbed</th>\n",
       "      <th>outer_attention_std_perturbed</th>\n",
       "      <th>inner_likelihood_perturbed</th>\n",
       "      <th>inner_likelihood_std_perturbed</th>\n",
       "      <th>correlation_perturbed</th>\n",
       "      <th>likelihood_mode_perturbed</th>\n",
       "    </tr>\n",
       "  </thead>\n",
       "  <tbody>\n",
       "    <tr>\n",
       "      <th>0</th>\n",
       "      <td>bert-base-uncased</td>\n",
       "      <td>9</td>\n",
       "      <td>0.098810</td>\n",
       "      <td>0.025692</td>\n",
       "      <td>0.074987</td>\n",
       "      <td>0.032488</td>\n",
       "      <td>0.099916</td>\n",
       "      <td>0.026053</td>\n",
       "      <td>0.663659</td>\n",
       "      <td>0.356065</td>\n",
       "      <td>...</td>\n",
       "      <td>0.098810</td>\n",
       "      <td>0.025692</td>\n",
       "      <td>0.062833</td>\n",
       "      <td>0.041480</td>\n",
       "      <td>0.099721</td>\n",
       "      <td>0.026314</td>\n",
       "      <td>0.095786</td>\n",
       "      <td>0.197539</td>\n",
       "      <td>0.642901</td>\n",
       "      <td>lowest</td>\n",
       "    </tr>\n",
       "    <tr>\n",
       "      <th>1</th>\n",
       "      <td>roberta-base</td>\n",
       "      <td>11</td>\n",
       "      <td>0.099556</td>\n",
       "      <td>0.024887</td>\n",
       "      <td>0.124329</td>\n",
       "      <td>0.047694</td>\n",
       "      <td>0.099334</td>\n",
       "      <td>0.025083</td>\n",
       "      <td>0.938444</td>\n",
       "      <td>0.197165</td>\n",
       "      <td>...</td>\n",
       "      <td>0.099556</td>\n",
       "      <td>0.024887</td>\n",
       "      <td>0.042647</td>\n",
       "      <td>0.032833</td>\n",
       "      <td>0.100869</td>\n",
       "      <td>0.025637</td>\n",
       "      <td>0.072483</td>\n",
       "      <td>0.173935</td>\n",
       "      <td>0.801689</td>\n",
       "      <td>high</td>\n",
       "    </tr>\n",
       "    <tr>\n",
       "      <th>2</th>\n",
       "      <td>xlm-roberta-base</td>\n",
       "      <td>11</td>\n",
       "      <td>0.089392</td>\n",
       "      <td>0.023990</td>\n",
       "      <td>0.131850</td>\n",
       "      <td>0.062842</td>\n",
       "      <td>0.088980</td>\n",
       "      <td>0.024026</td>\n",
       "      <td>0.942570</td>\n",
       "      <td>0.175600</td>\n",
       "      <td>...</td>\n",
       "      <td>0.089392</td>\n",
       "      <td>0.023990</td>\n",
       "      <td>0.050840</td>\n",
       "      <td>0.033801</td>\n",
       "      <td>0.090406</td>\n",
       "      <td>0.024606</td>\n",
       "      <td>0.017382</td>\n",
       "      <td>0.070976</td>\n",
       "      <td>0.766631</td>\n",
       "      <td>mid</td>\n",
       "    </tr>\n",
       "    <tr>\n",
       "      <th>3</th>\n",
       "      <td>roberta-large</td>\n",
       "      <td>23</td>\n",
       "      <td>0.099556</td>\n",
       "      <td>0.024887</td>\n",
       "      <td>0.133954</td>\n",
       "      <td>0.040175</td>\n",
       "      <td>0.099075</td>\n",
       "      <td>0.025067</td>\n",
       "      <td>0.947395</td>\n",
       "      <td>0.171740</td>\n",
       "      <td>...</td>\n",
       "      <td>0.099556</td>\n",
       "      <td>0.024887</td>\n",
       "      <td>0.046074</td>\n",
       "      <td>0.035148</td>\n",
       "      <td>0.100755</td>\n",
       "      <td>0.025544</td>\n",
       "      <td>0.054967</td>\n",
       "      <td>0.149300</td>\n",
       "      <td>0.822567</td>\n",
       "      <td>high</td>\n",
       "    </tr>\n",
       "    <tr>\n",
       "      <th>4</th>\n",
       "      <td>distilbert-base-uncased</td>\n",
       "      <td>4</td>\n",
       "      <td>0.098810</td>\n",
       "      <td>0.025692</td>\n",
       "      <td>0.064540</td>\n",
       "      <td>0.022500</td>\n",
       "      <td>0.100178</td>\n",
       "      <td>0.026117</td>\n",
       "      <td>0.785071</td>\n",
       "      <td>0.292972</td>\n",
       "      <td>...</td>\n",
       "      <td>0.098810</td>\n",
       "      <td>0.025692</td>\n",
       "      <td>0.045426</td>\n",
       "      <td>0.035298</td>\n",
       "      <td>0.099993</td>\n",
       "      <td>0.026461</td>\n",
       "      <td>0.016773</td>\n",
       "      <td>0.068814</td>\n",
       "      <td>0.687584</td>\n",
       "      <td>lowest</td>\n",
       "    </tr>\n",
       "  </tbody>\n",
       "</table>\n",
       "<p>5 rows × 22 columns</p>\n",
       "</div>"
      ],
      "text/plain": [
       "                   encoder  layer  attention_real  attention_std_real  \\\n",
       "0        bert-base-uncased      9        0.098810            0.025692   \n",
       "1             roberta-base     11        0.099556            0.024887   \n",
       "2         xlm-roberta-base     11        0.089392            0.023990   \n",
       "3            roberta-large     23        0.099556            0.024887   \n",
       "4  distilbert-base-uncased      4        0.098810            0.025692   \n",
       "\n",
       "   inner_attention_real  inner_attention_std_real  outer_attention_real  \\\n",
       "0              0.074987                  0.032488              0.099916   \n",
       "1              0.124329                  0.047694              0.099334   \n",
       "2              0.131850                  0.062842              0.088980   \n",
       "3              0.133954                  0.040175              0.099075   \n",
       "4              0.064540                  0.022500              0.100178   \n",
       "\n",
       "   outer_attention_std_real  inner_likelihood_real  inner_likelihood_std_real  \\\n",
       "0                  0.026053               0.663659                   0.356065   \n",
       "1                  0.025083               0.938444                   0.197165   \n",
       "2                  0.024026               0.942570                   0.175600   \n",
       "3                  0.025067               0.947395                   0.171740   \n",
       "4                  0.026117               0.785071                   0.292972   \n",
       "\n",
       "   ...  attention_perturbed attention_std_perturbed  \\\n",
       "0  ...             0.098810                0.025692   \n",
       "1  ...             0.099556                0.024887   \n",
       "2  ...             0.089392                0.023990   \n",
       "3  ...             0.099556                0.024887   \n",
       "4  ...             0.098810                0.025692   \n",
       "\n",
       "   inner_attention_perturbed  inner_attention_std_perturbed  \\\n",
       "0                   0.062833                       0.041480   \n",
       "1                   0.042647                       0.032833   \n",
       "2                   0.050840                       0.033801   \n",
       "3                   0.046074                       0.035148   \n",
       "4                   0.045426                       0.035298   \n",
       "\n",
       "   outer_attention_perturbed  outer_attention_std_perturbed  \\\n",
       "0                   0.099721                       0.026314   \n",
       "1                   0.100869                       0.025637   \n",
       "2                   0.090406                       0.024606   \n",
       "3                   0.100755                       0.025544   \n",
       "4                   0.099993                       0.026461   \n",
       "\n",
       "   inner_likelihood_perturbed  inner_likelihood_std_perturbed  \\\n",
       "0                    0.095786                        0.197539   \n",
       "1                    0.072483                        0.173935   \n",
       "2                    0.017382                        0.070976   \n",
       "3                    0.054967                        0.149300   \n",
       "4                    0.016773                        0.068814   \n",
       "\n",
       "   correlation_perturbed  likelihood_mode_perturbed  \n",
       "0               0.642901                     lowest  \n",
       "1               0.801689                       high  \n",
       "2               0.766631                        mid  \n",
       "3               0.822567                       high  \n",
       "4               0.687584                     lowest  \n",
       "\n",
       "[5 rows x 22 columns]"
      ]
     },
     "execution_count": 13,
     "metadata": {},
     "output_type": "execute_result"
    }
   ],
   "source": [
    "coupled_columns = [\n",
    "    (col, f\"{col}_std\")\n",
    "    for col in perturbed_df.columns\n",
    "    if f\"{col}_std\" in perturbed_df.columns  # and \"likelihood\" in col\n",
    "]\n",
    "\n",
    "# # round the values\n",
    "# for col in perturbed_df.columns:\n",
    "#     # check if the column is a float\n",
    "#     if perturbed_df[col].dtype == float:\n",
    "#         perturbed_df[col] = perturbed_df[col].apply(lambda x: np.round(x, 3))\n",
    "#         real_df[col] = real_df[col].apply(lambda x: np.round(x, 3))\n",
    "#         # pad the column with zeros\n",
    "#         perturbed_df[col] = perturbed_df[col].apply(lambda x: f\"{x:0.3f}\")\n",
    "#         real_df[col] = real_df[col].apply(lambda x: f\"{x:0.3f}\")\n",
    "\n",
    "# # add the standard deviation to the value\n",
    "# for metric_col, std_col in coupled_columns:\n",
    "#     perturbed_df[metric_col] = [\n",
    "#         f\"{x} ± {y}\" for x, y in zip(perturbed_df[metric_col], perturbed_df[std_col])\n",
    "#     ]\n",
    "#     real_df[metric_col] = [\n",
    "#         f\"{x} ± {y}\" for x, y in zip(real_df[metric_col], real_df[std_col])\n",
    "#     ]\n",
    "\n",
    "#     del perturbed_df[std_col]\n",
    "#     del real_df[std_col]\n",
    "\n",
    "real_df.to_csv(DATA_DIR / \"real_df.tsv\", sep=\"\\t\", index=False)\n",
    "perturbed_df.to_csv(DATA_DIR / \"perturbed_df.tsv\", sep=\"\\t\", index=False)\n",
    "\n",
    "full_df = pd.merge(\n",
    "    left=real_df,\n",
    "    right=perturbed_df,\n",
    "    on=[\"encoder\", \"layer\"],\n",
    "    suffixes=[\"_real\", \"_perturbed\"],\n",
    ")\n",
    "full_df.to_csv(DATA_DIR / \"full_df.tsv\", sep=\"\\t\", index=False)\n",
    "full_df.head()"
   ]
  },
  {
   "cell_type": "code",
   "execution_count": 14,
   "metadata": {},
   "outputs": [
    {
     "data": {
      "text/plain": [
       "[('bert-base-uncased', 9, 'lowest'),\n",
       " ('roberta-base', 11, 'high'),\n",
       " ('xlm-roberta-base', 11, 'mid'),\n",
       " ('roberta-large', 23, 'high'),\n",
       " ('distilbert-base-uncased', 4, 'lowest')]"
      ]
     },
     "execution_count": 14,
     "metadata": {},
     "output_type": "execute_result"
    }
   ],
   "source": [
    "table_keys = list(zip(full_df.encoder, full_df.layer, full_df.likelihood_mode_perturbed))\n",
    "table_keys"
   ]
  },
  {
   "cell_type": "code",
   "execution_count": 15,
   "metadata": {},
   "outputs": [],
   "source": [
    "encoders, _, likelihood_modes = list(zip(*table_keys))\n",
    "encoder2likelihood = list(zip(encoders, likelihood_modes))\n",
    "plot_df = correlation_df[correlation_df[[\"encoder\", \"likelihood_mode\"]].apply(tuple, axis=1).isin(encoder2likelihood)]\n",
    "\n",
    "plot_df.to_csv(DATA_DIR / \"plot_df.tsv\", sep=\"\\t\", index=False)"
   ]
  },
  {
   "cell_type": "code",
   "execution_count": 16,
   "metadata": {},
   "outputs": [],
   "source": [
    "import plotly.express as px"
   ]
  },
  {
   "cell_type": "code",
   "execution_count": 17,
   "metadata": {},
   "outputs": [],
   "source": [
    "import matplotlib.pyplot as plt\n",
    "from tueplots import figsizes\n",
    "import matplotlib.cm as cm"
   ]
  },
  {
   "cell_type": "code",
   "execution_count": 18,
   "metadata": {},
   "outputs": [],
   "source": [
    "plt.rcParams.update(figsizes.iclr2023(ncols=1, nrows=1, height_to_width_ratio=1))\n",
    "plt.rcParams[\"text.usetex\"] = True"
   ]
  },
  {
   "cell_type": "code",
   "execution_count": 19,
   "metadata": {},
   "outputs": [
    {
     "data": {
      "image/png": "[encoded data removed]",
      "text/plain": [
       "<Figure size 550x550 with 2 Axes>"
      ]
     },
     "metadata": {},
     "output_type": "display_data"
    }
   ],
   "source": [
    "encoders, _, likelihood_modes = list(zip(*table_keys))\n",
    "encoder2likelihood = list(zip(encoders, likelihood_modes))\n",
    "plot_df = correlation_df[correlation_df[[\"encoder\", \"likelihood_mode\"]].apply(tuple, axis=1).isin(encoder2likelihood)]\n",
    "fig, ax = plt.subplots(nrows=1, ncols=1, sharey=True, sharex=True, squeeze=True)\n",
    "\n",
    "\n",
    "encoder2index = {encoder: i for i, encoder in enumerate(set(plot_df.encoder))}\n",
    "# populate the matrix\n",
    "z = np.zeros((len(set(plot_df.encoder)), len(set(plot_df.layer))))\n",
    "for i, row in plot_df.iterrows():\n",
    "    z[encoder2index[row.encoder], row.layer] = row.correlation\n",
    "z = np.ma.masked_where(z == 0, z)\n",
    "\n",
    "layers = [0, 5, 11, 17, 23]\n",
    "\n",
    "plt.xticks(labels=[str(a) for a in layers], ticks=layers)\n",
    "plt.yticks(labels=list(encoder2index.keys()), ticks=list(encoder2index.values()))\n",
    "\n",
    "\n",
    "image = ax.imshow(\n",
    "    z,\n",
    "    cmap=\"Spectral_r\",\n",
    "    origin=\"lower\",\n",
    "    # vmin=z.min(),\n",
    "    # vmax=z.max(),\n",
    ")\n",
    "\n",
    "cbar_ticks = np.linspace(z.min(), z.max(), 7)\n",
    "# ax.tick_params(axis=\"both\", labelsize=4)\n",
    "cbar = fig.colorbar(\n",
    "    image,\n",
    "    ax=ax,\n",
    "    ticks=[np.round(tick, 2) for tick in cbar_ticks],\n",
    "    fraction=0.015,\n",
    "    pad=0.04,\n",
    ")\n",
    "cbar.ax.set_ylabel(\"correlation $\\\\rho$\", rotation=90, labelpad=10)\n",
    "\n",
    "plt.show()"
   ]
  },
  {
   "cell_type": "code",
   "execution_count": 20,
   "metadata": {},
   "outputs": [],
   "source": [
    "fig.savefig(DATA_DIR / \"correlation.svg\", bbox_inches=\"tight\")\n",
    "!rsvg-convert -f pdf -o $DATA_DIR/correlation.pdf $DATA_DIR/correlation.svg\n",
    "!rm $DATA_DIR/correlation.svg"
   ]
  },
  {
   "cell_type": "code",
   "execution_count": 21,
   "metadata": {},
   "outputs": [],
   "source": [
    "data = likelihood2encoder2data[\"real\"][\"roberta-base\"]\n",
    "lemma_lengths = torch.as_tensor([x.shape[0] for x in data[\"lemma_ids\"]])\n",
    "sentence_lengths = torch.as_tensor([x.shape[0] for x in data[\"sentence_ids\"]])"
   ]
  },
  {
   "cell_type": "code",
   "execution_count": 22,
   "metadata": {},
   "outputs": [
    {
     "data": {
      "image/png": "[encoded data removed]",
      "text/plain": [
       "<Figure size 550x275 with 2 Axes>"
      ]
     },
     "metadata": {},
     "output_type": "display_data"
    }
   ],
   "source": [
    "plt.rcParams.update(figsizes.iclr2023(ncols=2, nrows=1, height_to_width_ratio=1))\n",
    "\"\"\"Plot the token and sentence lengths.\"\"\"\n",
    "fig, axs = plt.subplots(nrows=1, ncols=2, sharey=False, sharex=False, squeeze=True)\n",
    "axs[0].hist(lemma_lengths, bins=20, log=True)\n",
    "axs[0].set_title(\"Token lengths\")\n",
    "axs[1].hist(sentence_lengths, bins=20, log=True)\n",
    "axs[1].set_title(\"Sentence lengths\")\n",
    "plt.show()"
   ]
  },
  {
   "cell_type": "code",
   "execution_count": 23,
   "metadata": {},
   "outputs": [],
   "source": [
    "fig.savefig(DATA_DIR / \"dataset.svg\", bbox_inches=\"tight\")\n",
    "!rsvg-convert -f pdf -o $DATA_DIR/dataset.pdf $DATA_DIR/dataset.svg\n",
    "!rm $DATA_DIR/dataset.svg"
   ]
  },
  {
   "cell_type": "code",
   "execution_count": 24,
   "metadata": {},
   "outputs": [
    {
     "name": "stdout",
     "output_type": "stream",
     "text": [
      "bert-base-uncased layer=9 likelihood_mode='lowest' diff_mean=-3.920451463468311e-11 diff_std=0.06103307381272316 mwu_u1=51.32635055205047 mwu_u2=47.3386238170347 mwu_p=0.5180216554517054\n",
      "roberta-base layer=11 likelihood_mode='high' diff_mean=-1.0370344166732437e-10 diff_std=0.05361169949173927 mwu_u1=40.64249802839117 mwu_u2=56.438732255520506 mwu_p=0.539919337431387\n",
      "xlm-roberta-base layer=11 likelihood_mode='mid' diff_mean=-7.057780054831042e-11 diff_std=0.07008374482393265 mwu_u1=48.461750788643535 mwu_u2=71.8762322555205 mwu_p=0.4753928649900121\n",
      "roberta-large layer=23 likelihood_mode='high' diff_mean=1.282185035228478e-11 diff_std=0.06332818418741226 mwu_u1=42.269420347003155 mwu_u2=54.81180993690852 mwu_p=0.5607710196606683\n",
      "distilbert-base-uncased layer=4 likelihood_mode='lowest' diff_mean=-2.061697340627333e-11 diff_std=0.05864017456769943 mwu_u1=43.836972594637224 mwu_u2=54.82800177444795 mwu_p=0.5527240156035247\n"
     ]
    }
   ],
   "source": [
    "from scipy.stats import mannwhitneyu\n",
    "\n",
    "\"\"\"Compute the Mann-Whitney U test for the attention distributions.\"\"\"\n",
    "for encoder, layer, likelihood_mode in table_keys:\n",
    "    perturbed_data = likelihood2encoder2data[likelihood_mode][encoder]\n",
    "    real_data = likelihood2encoder2data[\"real\"][encoder]\n",
    "\n",
    "    perturbed_attention = [attention[layer, :, :] for attention in perturbed_data[\"attention\"]]\n",
    "    real_attention = [attention[layer, :, :] for attention in real_data[\"attention\"]]\n",
    "\n",
    "    start_lemmas = real_data[\"start_lemma_index\"]\n",
    "    end_lemmas = real_data[\"end_lemma_index\"]\n",
    "\n",
    "    outer_orig_attention = [\n",
    "        torch.cat(\n",
    "            [\n",
    "                x[start_lemma:end_lemma, :start_lemma],\n",
    "                x[start_lemma:end_lemma, end_lemma:],\n",
    "            ],\n",
    "            dim=1,\n",
    "        ).mean(dim=0)\n",
    "        for x, start_lemma, end_lemma in zip(real_attention, start_lemmas, end_lemmas)\n",
    "    ]\n",
    "    outer_perturbed_attention = [\n",
    "        torch.cat(\n",
    "            [\n",
    "                x[start_lemma:end_lemma, :start_lemma],\n",
    "                x[start_lemma:end_lemma, end_lemma:],\n",
    "            ],\n",
    "            dim=1,\n",
    "        ).mean(dim=0)\n",
    "        for x, start_lemma, end_lemma in zip(perturbed_attention, start_lemmas, end_lemmas)\n",
    "    ]\n",
    "\n",
    "    mwu_u1 = []\n",
    "    mwu_u2 = []\n",
    "    mwu_p = []\n",
    "    for x, y in zip(outer_orig_attention, outer_perturbed_attention):\n",
    "        u1, p = mannwhitneyu(x, y, method=\"auto\")\n",
    "        u2 = x.shape[0] * y.shape[0] - u1\n",
    "        mwu_u1.append(u1)\n",
    "        mwu_u2.append(u2)\n",
    "        mwu_p.append(p)\n",
    "    mwu_u1 = torch.as_tensor(mwu_u1)\n",
    "    mwu_u2 = torch.as_tensor(mwu_u2)\n",
    "    mwu_p = torch.as_tensor(mwu_p)\n",
    "\n",
    "    mwu_u1 = mwu_u1.mean().item()\n",
    "    mwu_u2 = mwu_u2.mean().item()\n",
    "    mwu_p = mwu_p.mean().item()\n",
    "\n",
    "    diff_mean = (\n",
    "        torch.stack(\n",
    "            [\n",
    "                (x - y)[start_lemma:end_lemma, :].mean(dim=1).mean()\n",
    "                for x, y, start_lemma, end_lemma in zip(perturbed_attention, real_attention, start_lemmas, end_lemmas)\n",
    "            ]\n",
    "        )\n",
    "        .mean()\n",
    "        .item()\n",
    "    )\n",
    "    diff_std = (\n",
    "        torch.stack(\n",
    "            [\n",
    "                (x - y)[start_lemma:end_lemma, :].std(dim=1).mean()\n",
    "                for x, y, start_lemma, end_lemma in zip(perturbed_attention, real_attention, start_lemmas, end_lemmas)\n",
    "            ]\n",
    "        )\n",
    "        .mean()\n",
    "        .item()\n",
    "    )\n",
    "\n",
    "    print(f\"{encoder} {layer=} {likelihood_mode=} {diff_mean=} {diff_std=} {mwu_u1=} {mwu_u2=} {mwu_p=}\")"
   ]
  },
  {
   "cell_type": "code",
   "execution_count": 25,
   "metadata": {},
   "outputs": [
    {
     "name": "stdout",
     "output_type": "stream",
     "text": [
      "low 0.041193630546331406\n",
      "lowest 0.032791584730148315\n",
      "high 0.06694696843624115\n",
      "real 0.2640671730041504\n",
      "highest 0.399607390165329\n",
      "mid 0.3457651734352112\n"
     ]
    }
   ],
   "source": [
    "x = []\n",
    "for likelihood, encoder2data in likelihood2encoder2data.items():\n",
    "    for encoder_name, encoder_data in encoder2data.items():\n",
    "        x.append(encoder_data[\"inner_likelihoods_mean\"].mean().item())\n",
    "    print(likelihood, torch.as_tensor(x).mean().item())\n",
    "# x"
   ]
  },
  {
   "cell_type": "code",
   "execution_count": 26,
   "metadata": {},
   "outputs": [],
   "source": [
    "from attlike.utils import data_to_df"
   ]
  },
  {
   "cell_type": "code",
   "execution_count": 27,
   "metadata": {},
   "outputs": [
    {
     "data": {
      "text/plain": [
       "dict_keys(['low', 'lowest', 'high', 'real', 'highest', 'mid'])"
      ]
     },
     "execution_count": 27,
     "metadata": {},
     "output_type": "execute_result"
    }
   ],
   "source": [
    "likelihood2df = {}\n",
    "for likelihood, encoder2data in likelihood2encoder2data.items():\n",
    "    likelihood2df[likelihood] = data_to_df(encoder2data)\n",
    "likelihood2df.keys()"
   ]
  },
  {
   "cell_type": "code",
   "execution_count": 28,
   "metadata": {},
   "outputs": [],
   "source": [
    "(DATA_DIR / \"likelihood_df\").mkdir(exist_ok=True)\n",
    "for likelihood, df in likelihood2df.items():\n",
    "    df.to_csv(DATA_DIR / \"likelihood_df\" / f\"{likelihood}.tsv\", sep=\"\\t\", index=False)"
   ]
  },
  {
   "cell_type": "code",
   "execution_count": 29,
   "metadata": {},
   "outputs": [
    {
     "data": {
      "text/plain": [
       "dict_keys(['high', 'real', 'highest', 'lowest', 'mid', 'low'])"
      ]
     },
     "execution_count": 29,
     "metadata": {},
     "output_type": "execute_result"
    }
   ],
   "source": [
    "likelihood2df = {\n",
    "    likelihood_file.name.split(\".\")[0]: pd.read_csv(likelihood_file, sep=\"\\t\")\n",
    "    for likelihood_file in (DATA_DIR / \"likelihood_df\").iterdir()\n",
    "    if likelihood_file.name.endswith(\".tsv\")\n",
    "}\n",
    "likelihood2df = {likelihood: df for likelihood, df in likelihood2df.items()}\n",
    "likelihood2df.keys()"
   ]
  },
  {
   "cell_type": "code",
   "execution_count": 30,
   "metadata": {},
   "outputs": [
    {
     "data": {
      "text/html": [
       "<div>\n",
       "<style scoped>\n",
       "    .dataframe tbody tr th:only-of-type {\n",
       "        vertical-align: middle;\n",
       "    }\n",
       "\n",
       "    .dataframe tbody tr th {\n",
       "        vertical-align: top;\n",
       "    }\n",
       "\n",
       "    .dataframe thead th {\n",
       "        text-align: right;\n",
       "    }\n",
       "</style>\n",
       "<table border=\"1\" class=\"dataframe\">\n",
       "  <thead>\n",
       "    <tr style=\"text-align: right;\">\n",
       "      <th></th>\n",
       "      <th>encoder</th>\n",
       "      <th>layer</th>\n",
       "      <th>attention</th>\n",
       "      <th>inner_attention</th>\n",
       "      <th>outer_attention</th>\n",
       "      <th>likelihood</th>\n",
       "      <th>likelihood_mode</th>\n",
       "    </tr>\n",
       "  </thead>\n",
       "  <tbody>\n",
       "    <tr>\n",
       "      <th>0</th>\n",
       "      <td>bert-base-uncased</td>\n",
       "      <td>0</td>\n",
       "      <td>0.111111</td>\n",
       "      <td>0.117414</td>\n",
       "      <td>0.111032</td>\n",
       "      <td>2.304286e-03</td>\n",
       "      <td>high</td>\n",
       "    </tr>\n",
       "    <tr>\n",
       "      <th>1</th>\n",
       "      <td>bert-base-uncased</td>\n",
       "      <td>0</td>\n",
       "      <td>0.090909</td>\n",
       "      <td>0.126819</td>\n",
       "      <td>0.090610</td>\n",
       "      <td>4.574996e-04</td>\n",
       "      <td>high</td>\n",
       "    </tr>\n",
       "    <tr>\n",
       "      <th>2</th>\n",
       "      <td>bert-base-uncased</td>\n",
       "      <td>0</td>\n",
       "      <td>0.100000</td>\n",
       "      <td>0.127791</td>\n",
       "      <td>0.099719</td>\n",
       "      <td>7.362875e-04</td>\n",
       "      <td>high</td>\n",
       "    </tr>\n",
       "    <tr>\n",
       "      <th>3</th>\n",
       "      <td>bert-base-uncased</td>\n",
       "      <td>0</td>\n",
       "      <td>0.100000</td>\n",
       "      <td>0.140764</td>\n",
       "      <td>0.099588</td>\n",
       "      <td>9.825145e-02</td>\n",
       "      <td>high</td>\n",
       "    </tr>\n",
       "    <tr>\n",
       "      <th>4</th>\n",
       "      <td>bert-base-uncased</td>\n",
       "      <td>0</td>\n",
       "      <td>0.050000</td>\n",
       "      <td>0.076755</td>\n",
       "      <td>0.049384</td>\n",
       "      <td>5.335055e-01</td>\n",
       "      <td>high</td>\n",
       "    </tr>\n",
       "    <tr>\n",
       "      <th>...</th>\n",
       "      <td>...</td>\n",
       "      <td>...</td>\n",
       "      <td>...</td>\n",
       "      <td>...</td>\n",
       "      <td>...</td>\n",
       "      <td>...</td>\n",
       "      <td>...</td>\n",
       "    </tr>\n",
       "    <tr>\n",
       "      <th>1339003</th>\n",
       "      <td>distilbert-base-uncased</td>\n",
       "      <td>5</td>\n",
       "      <td>0.066667</td>\n",
       "      <td>0.055004</td>\n",
       "      <td>0.067153</td>\n",
       "      <td>6.818367e-03</td>\n",
       "      <td>low</td>\n",
       "    </tr>\n",
       "    <tr>\n",
       "      <th>1339004</th>\n",
       "      <td>distilbert-base-uncased</td>\n",
       "      <td>5</td>\n",
       "      <td>0.058824</td>\n",
       "      <td>0.020183</td>\n",
       "      <td>0.058958</td>\n",
       "      <td>1.478052e-06</td>\n",
       "      <td>low</td>\n",
       "    </tr>\n",
       "    <tr>\n",
       "      <th>1339005</th>\n",
       "      <td>distilbert-base-uncased</td>\n",
       "      <td>5</td>\n",
       "      <td>0.083333</td>\n",
       "      <td>0.037906</td>\n",
       "      <td>0.084631</td>\n",
       "      <td>5.705641e-07</td>\n",
       "      <td>low</td>\n",
       "    </tr>\n",
       "    <tr>\n",
       "      <th>1339006</th>\n",
       "      <td>distilbert-base-uncased</td>\n",
       "      <td>5</td>\n",
       "      <td>0.083333</td>\n",
       "      <td>0.039549</td>\n",
       "      <td>0.084584</td>\n",
       "      <td>6.903951e-06</td>\n",
       "      <td>low</td>\n",
       "    </tr>\n",
       "    <tr>\n",
       "      <th>1339007</th>\n",
       "      <td>distilbert-base-uncased</td>\n",
       "      <td>5</td>\n",
       "      <td>0.066667</td>\n",
       "      <td>0.017003</td>\n",
       "      <td>0.066888</td>\n",
       "      <td>1.610402e-07</td>\n",
       "      <td>low</td>\n",
       "    </tr>\n",
       "  </tbody>\n",
       "</table>\n",
       "<p>8034048 rows × 7 columns</p>\n",
       "</div>"
      ],
      "text/plain": [
       "                         encoder  layer  attention  inner_attention  \\\n",
       "0              bert-base-uncased      0   0.111111         0.117414   \n",
       "1              bert-base-uncased      0   0.090909         0.126819   \n",
       "2              bert-base-uncased      0   0.100000         0.127791   \n",
       "3              bert-base-uncased      0   0.100000         0.140764   \n",
       "4              bert-base-uncased      0   0.050000         0.076755   \n",
       "...                          ...    ...        ...              ...   \n",
       "1339003  distilbert-base-uncased      5   0.066667         0.055004   \n",
       "1339004  distilbert-base-uncased      5   0.058824         0.020183   \n",
       "1339005  distilbert-base-uncased      5   0.083333         0.037906   \n",
       "1339006  distilbert-base-uncased      5   0.083333         0.039549   \n",
       "1339007  distilbert-base-uncased      5   0.066667         0.017003   \n",
       "\n",
       "         outer_attention    likelihood likelihood_mode  \n",
       "0               0.111032  2.304286e-03            high  \n",
       "1               0.090610  4.574996e-04            high  \n",
       "2               0.099719  7.362875e-04            high  \n",
       "3               0.099588  9.825145e-02            high  \n",
       "4               0.049384  5.335055e-01            high  \n",
       "...                  ...           ...             ...  \n",
       "1339003         0.067153  6.818367e-03             low  \n",
       "1339004         0.058958  1.478052e-06             low  \n",
       "1339005         0.084631  5.705641e-07             low  \n",
       "1339006         0.084584  6.903951e-06             low  \n",
       "1339007         0.066888  1.610402e-07             low  \n",
       "\n",
       "[8034048 rows x 7 columns]"
      ]
     },
     "execution_count": 30,
     "metadata": {},
     "output_type": "execute_result"
    }
   ],
   "source": [
    "dfs = []\n",
    "for likelihood, df in likelihood2df.items():\n",
    "    df[\"likelihood_mode\"] = likelihood\n",
    "    dfs.append(df)\n",
    "df = pd.concat(dfs)\n",
    "df"
   ]
  },
  {
   "cell_type": "code",
   "execution_count": 31,
   "metadata": {},
   "outputs": [
    {
     "name": "stderr",
     "output_type": "stream",
     "text": [
      "/tmp/ipykernel_59302/3104618255.py:3: FutureWarning: ['encoder'] did not aggregate successfully. If any error is raised this will raise in a future version of pandas. Drop these columns/ops to avoid this warning.\n",
      "  df.groupby([\"likelihood_mode\", \"layer\"]).aggregate([np.mean, np.std])\n"
     ]
    },
    {
     "data": {
      "text/html": [
       "<div>\n",
       "<style scoped>\n",
       "    .dataframe tbody tr th:only-of-type {\n",
       "        vertical-align: middle;\n",
       "    }\n",
       "\n",
       "    .dataframe tbody tr th {\n",
       "        vertical-align: top;\n",
       "    }\n",
       "\n",
       "    .dataframe thead tr th {\n",
       "        text-align: left;\n",
       "    }\n",
       "\n",
       "    .dataframe thead tr:last-of-type th {\n",
       "        text-align: right;\n",
       "    }\n",
       "</style>\n",
       "<table border=\"1\" class=\"dataframe\">\n",
       "  <thead>\n",
       "    <tr>\n",
       "      <th></th>\n",
       "      <th></th>\n",
       "      <th colspan=\"2\" halign=\"left\">attention</th>\n",
       "      <th colspan=\"2\" halign=\"left\">inner_attention</th>\n",
       "      <th colspan=\"2\" halign=\"left\">outer_attention</th>\n",
       "      <th colspan=\"2\" halign=\"left\">likelihood</th>\n",
       "    </tr>\n",
       "    <tr>\n",
       "      <th></th>\n",
       "      <th></th>\n",
       "      <th>mean</th>\n",
       "      <th>std</th>\n",
       "      <th>mean</th>\n",
       "      <th>std</th>\n",
       "      <th>mean</th>\n",
       "      <th>std</th>\n",
       "      <th>mean</th>\n",
       "      <th>std</th>\n",
       "    </tr>\n",
       "    <tr>\n",
       "      <th>likelihood_mode</th>\n",
       "      <th>layer</th>\n",
       "      <th></th>\n",
       "      <th></th>\n",
       "      <th></th>\n",
       "      <th></th>\n",
       "      <th></th>\n",
       "      <th></th>\n",
       "      <th></th>\n",
       "      <th></th>\n",
       "    </tr>\n",
       "  </thead>\n",
       "  <tbody>\n",
       "    <tr>\n",
       "      <th rowspan=\"5\" valign=\"top\">high</th>\n",
       "      <th>0</th>\n",
       "      <td>0.097225</td>\n",
       "      <td>0.025344</td>\n",
       "      <td>0.147253</td>\n",
       "      <td>0.064885</td>\n",
       "      <td>0.096165</td>\n",
       "      <td>0.025268</td>\n",
       "      <td>0.135258</td>\n",
       "      <td>0.244015</td>\n",
       "    </tr>\n",
       "    <tr>\n",
       "      <th>1</th>\n",
       "      <td>0.097225</td>\n",
       "      <td>0.025344</td>\n",
       "      <td>0.064847</td>\n",
       "      <td>0.033396</td>\n",
       "      <td>0.098084</td>\n",
       "      <td>0.026038</td>\n",
       "      <td>0.135258</td>\n",
       "      <td>0.244015</td>\n",
       "    </tr>\n",
       "    <tr>\n",
       "      <th>2</th>\n",
       "      <td>0.097225</td>\n",
       "      <td>0.025344</td>\n",
       "      <td>0.055197</td>\n",
       "      <td>0.026383</td>\n",
       "      <td>0.098424</td>\n",
       "      <td>0.026028</td>\n",
       "      <td>0.135258</td>\n",
       "      <td>0.244015</td>\n",
       "    </tr>\n",
       "    <tr>\n",
       "      <th>3</th>\n",
       "      <td>0.097225</td>\n",
       "      <td>0.025344</td>\n",
       "      <td>0.047934</td>\n",
       "      <td>0.026449</td>\n",
       "      <td>0.098482</td>\n",
       "      <td>0.026088</td>\n",
       "      <td>0.135258</td>\n",
       "      <td>0.244015</td>\n",
       "    </tr>\n",
       "    <tr>\n",
       "      <th>4</th>\n",
       "      <td>0.097225</td>\n",
       "      <td>0.025344</td>\n",
       "      <td>0.053746</td>\n",
       "      <td>0.022739</td>\n",
       "      <td>0.098434</td>\n",
       "      <td>0.025984</td>\n",
       "      <td>0.135258</td>\n",
       "      <td>0.244015</td>\n",
       "    </tr>\n",
       "    <tr>\n",
       "      <th>...</th>\n",
       "      <th>...</th>\n",
       "      <td>...</td>\n",
       "      <td>...</td>\n",
       "      <td>...</td>\n",
       "      <td>...</td>\n",
       "      <td>...</td>\n",
       "      <td>...</td>\n",
       "      <td>...</td>\n",
       "      <td>...</td>\n",
       "    </tr>\n",
       "    <tr>\n",
       "      <th rowspan=\"5\" valign=\"top\">real</th>\n",
       "      <th>19</th>\n",
       "      <td>0.099556</td>\n",
       "      <td>0.024887</td>\n",
       "      <td>0.045265</td>\n",
       "      <td>0.013375</td>\n",
       "      <td>0.101167</td>\n",
       "      <td>0.025567</td>\n",
       "      <td>0.947395</td>\n",
       "      <td>0.171740</td>\n",
       "    </tr>\n",
       "    <tr>\n",
       "      <th>20</th>\n",
       "      <td>0.099556</td>\n",
       "      <td>0.024887</td>\n",
       "      <td>0.054505</td>\n",
       "      <td>0.018936</td>\n",
       "      <td>0.100765</td>\n",
       "      <td>0.025543</td>\n",
       "      <td>0.947395</td>\n",
       "      <td>0.171740</td>\n",
       "    </tr>\n",
       "    <tr>\n",
       "      <th>21</th>\n",
       "      <td>0.099556</td>\n",
       "      <td>0.024887</td>\n",
       "      <td>0.067770</td>\n",
       "      <td>0.034302</td>\n",
       "      <td>0.100099</td>\n",
       "      <td>0.025618</td>\n",
       "      <td>0.947395</td>\n",
       "      <td>0.171740</td>\n",
       "    </tr>\n",
       "    <tr>\n",
       "      <th>22</th>\n",
       "      <td>0.099556</td>\n",
       "      <td>0.024887</td>\n",
       "      <td>0.051660</td>\n",
       "      <td>0.029507</td>\n",
       "      <td>0.100571</td>\n",
       "      <td>0.025612</td>\n",
       "      <td>0.947395</td>\n",
       "      <td>0.171740</td>\n",
       "    </tr>\n",
       "    <tr>\n",
       "      <th>23</th>\n",
       "      <td>0.099556</td>\n",
       "      <td>0.024887</td>\n",
       "      <td>0.133954</td>\n",
       "      <td>0.040175</td>\n",
       "      <td>0.099075</td>\n",
       "      <td>0.025067</td>\n",
       "      <td>0.947395</td>\n",
       "      <td>0.171740</td>\n",
       "    </tr>\n",
       "  </tbody>\n",
       "</table>\n",
       "<p>144 rows × 8 columns</p>\n",
       "</div>"
      ],
      "text/plain": [
       "                      attention           inner_attention            \\\n",
       "                           mean       std            mean       std   \n",
       "likelihood_mode layer                                                 \n",
       "high            0      0.097225  0.025344        0.147253  0.064885   \n",
       "                1      0.097225  0.025344        0.064847  0.033396   \n",
       "                2      0.097225  0.025344        0.055197  0.026383   \n",
       "                3      0.097225  0.025344        0.047934  0.026449   \n",
       "                4      0.097225  0.025344        0.053746  0.022739   \n",
       "...                         ...       ...             ...       ...   \n",
       "real            19     0.099556  0.024887        0.045265  0.013375   \n",
       "                20     0.099556  0.024887        0.054505  0.018936   \n",
       "                21     0.099556  0.024887        0.067770  0.034302   \n",
       "                22     0.099556  0.024887        0.051660  0.029507   \n",
       "                23     0.099556  0.024887        0.133954  0.040175   \n",
       "\n",
       "                      outer_attention           likelihood            \n",
       "                                 mean       std       mean       std  \n",
       "likelihood_mode layer                                                 \n",
       "high            0            0.096165  0.025268   0.135258  0.244015  \n",
       "                1            0.098084  0.026038   0.135258  0.244015  \n",
       "                2            0.098424  0.026028   0.135258  0.244015  \n",
       "                3            0.098482  0.026088   0.135258  0.244015  \n",
       "                4            0.098434  0.025984   0.135258  0.244015  \n",
       "...                               ...       ...        ...       ...  \n",
       "real            19           0.101167  0.025567   0.947395  0.171740  \n",
       "                20           0.100765  0.025543   0.947395  0.171740  \n",
       "                21           0.100099  0.025618   0.947395  0.171740  \n",
       "                22           0.100571  0.025612   0.947395  0.171740  \n",
       "                23           0.099075  0.025067   0.947395  0.171740  \n",
       "\n",
       "[144 rows x 8 columns]"
      ]
     },
     "execution_count": 31,
     "metadata": {},
     "output_type": "execute_result"
    }
   ],
   "source": [
    "import numpy as np\n",
    "\n",
    "df.groupby([\"likelihood_mode\", \"layer\"]).aggregate([np.mean, np.std])"
   ]
  },
  {
   "cell_type": "code",
   "execution_count": 32,
   "metadata": {},
   "outputs": [],
   "source": [
    "import plotly.express as px\n",
    "import plotly.figure_factory as ff"
   ]
  },
  {
   "cell_type": "code",
   "execution_count": 33,
   "metadata": {},
   "outputs": [
    {
     "data": {
      "application/vnd.plotly.v1+json": {
       "config": {
        "plotlyServerURL": "https://plot.ly"
       },
       "data": [
        {
         "alignmentgroup": "True",
         "bingroup": "x",
         "hovertemplate": "variable=attention<br>value=%{x}<br>count=%{y}<extra></extra>",
         "legendgroup": "attention",
         "marker": {
          "color": "#636efa",
          "opacity": 0.5,
          "pattern": {
           "shape": ""
          }
         },
         "name": "attention",
         "nbinsx": 500,
         "offsetgroup": "attention",
         "orientation": "v",
         "showlegend": true,
         "type": "histogram",
         "x": [
          0.0988103374838829,
          0.0988103374838829,
          0.0988103374838829,
          0.0988103374838829,
          0.0988103374838829,
          0.0988103374838829,
          0.0988103374838829,
          0.0988103374838829,
          0.0988103374838829,
          0.0988103374838829,
          0.0988103374838829,
          0.0988103374838829,
          0.09955641627311707,
          0.09955641627311707,
          0.09955641627311707,
          0.09955641627311707,
          0.09955641627311707,
          0.09955641627311707,
          0.09955641627311707,
          0.09955641627311707,
          0.09955641627311707,
          0.09955641627311707,
          0.09955641627311707,
          0.09955641627311707,
          0.08939166367053986,
          0.08939166367053986,
          0.08939166367053986,
          0.08939166367053986,
          0.08939166367053986,
          0.08939166367053986,
          0.08939166367053986,
          0.08939166367053986,
          0.08939166367053986,
          0.08939166367053986,
          0.08939166367053986,
          0.08939166367053986,
          0.09955640882253647,
          0.09955641627311707,
          0.09955641627311707,
          0.09955641627311707,
          0.09955640882253647,
          0.09955640882253647,
          0.09955641627311707,
          0.09955641627311707,
          0.09955641627311707,
          0.09955641627311707,
          0.09955641627311707,
          0.09955640882253647,
          0.09955640882253647,
          0.09955640882253647,
          0.09955641627311707,
          0.09955640882253647,
          0.09955640882253647,
          0.09955640882253647,
          0.09955641627311707,
          0.09955640882253647,
          0.09955641627311707,
          0.09955640882253647,
          0.09955640882253647,
          0.09955641627311707,
          0.0988103374838829,
          0.0988103374838829,
          0.0988103374838829,
          0.0988103374838829,
          0.0988103374838829,
          0.0988103374838829
         ],
         "xaxis": "x",
         "yaxis": "y"
        },
        {
         "alignmentgroup": "True",
         "hovertemplate": "variable=attention<br>value=%{x}<extra></extra>",
         "legendgroup": "attention",
         "marker": {
          "color": "#636efa"
         },
         "name": "attention",
         "notched": true,
         "offsetgroup": "attention",
         "showlegend": false,
         "type": "box",
         "x": [
          0.0988103374838829,
          0.0988103374838829,
          0.0988103374838829,
          0.0988103374838829,
          0.0988103374838829,
          0.0988103374838829,
          0.0988103374838829,
          0.0988103374838829,
          0.0988103374838829,
          0.0988103374838829,
          0.0988103374838829,
          0.0988103374838829,
          0.09955641627311707,
          0.09955641627311707,
          0.09955641627311707,
          0.09955641627311707,
          0.09955641627311707,
          0.09955641627311707,
          0.09955641627311707,
          0.09955641627311707,
          0.09955641627311707,
          0.09955641627311707,
          0.09955641627311707,
          0.09955641627311707,
          0.08939166367053986,
          0.08939166367053986,
          0.08939166367053986,
          0.08939166367053986,
          0.08939166367053986,
          0.08939166367053986,
          0.08939166367053986,
          0.08939166367053986,
          0.08939166367053986,
          0.08939166367053986,
          0.08939166367053986,
          0.08939166367053986,
          0.09955640882253647,
          0.09955641627311707,
          0.09955641627311707,
          0.09955641627311707,
          0.09955640882253647,
          0.09955640882253647,
          0.09955641627311707,
          0.09955641627311707,
          0.09955641627311707,
          0.09955641627311707,
          0.09955641627311707,
          0.09955640882253647,
          0.09955640882253647,
          0.09955640882253647,
          0.09955641627311707,
          0.09955640882253647,
          0.09955640882253647,
          0.09955640882253647,
          0.09955641627311707,
          0.09955640882253647,
          0.09955641627311707,
          0.09955640882253647,
          0.09955640882253647,
          0.09955641627311707,
          0.0988103374838829,
          0.0988103374838829,
          0.0988103374838829,
          0.0988103374838829,
          0.0988103374838829,
          0.0988103374838829
         ],
         "xaxis": "x2",
         "yaxis": "y2"
        },
        {
         "alignmentgroup": "True",
         "bingroup": "x",
         "hovertemplate": "variable=outer_attention<br>value=%{x}<br>count=%{y}<extra></extra>",
         "legendgroup": "outer_attention",
         "marker": {
          "color": "#EF553B",
          "opacity": 0.5,
          "pattern": {
           "shape": ""
          }
         },
         "name": "outer_attention",
         "nbinsx": 500,
         "offsetgroup": "outer_attention",
         "orientation": "v",
         "showlegend": true,
         "type": "histogram",
         "x": [
          0.0981697365641594,
          0.0999290719628334,
          0.09941013157367706,
          0.1001763641834259,
          0.09992665797472,
          0.10068748146295547,
          0.10036390274763107,
          0.10061275213956833,
          0.1008700281381607,
          0.09991586208343506,
          0.09989567846059799,
          0.10020970553159714,
          0.0978851169347763,
          0.10056623816490173,
          0.10062894970178604,
          0.10103892534971237,
          0.10096574574708939,
          0.10115548223257065,
          0.10112284868955612,
          0.10042685270309448,
          0.10097833722829819,
          0.10049359500408173,
          0.10044731944799423,
          0.09933426976203918,
          0.0887787938117981,
          0.0896756649017334,
          0.09032629430294037,
          0.0902719721198082,
          0.09028705954551697,
          0.09025153517723083,
          0.0910467654466629,
          0.09065316617488861,
          0.0906219407916069,
          0.08980362862348557,
          0.08991929143667221,
          0.08898038417100906,
          0.09781801700592041,
          0.10065552592277527,
          0.10102734714746475,
          0.10079331696033478,
          0.10095973312854767,
          0.10171405225992203,
          0.10150617361068726,
          0.10074622929096222,
          0.10052841156721115,
          0.10086045414209366,
          0.10101645439863205,
          0.10100935399532318,
          0.10096011310815811,
          0.10141939669847488,
          0.10164204239845276,
          0.10144922882318497,
          0.10141067206859589,
          0.10144193470478058,
          0.10158619284629822,
          0.10116665065288544,
          0.10076490789651871,
          0.1000988706946373,
          0.10057063400745392,
          0.09907520562410355,
          0.09861525148153305,
          0.09900883585214615,
          0.10022962093353271,
          0.10035404562950134,
          0.10017812252044678,
          0.10030785202980042
         ],
         "xaxis": "x",
         "yaxis": "y"
        },
        {
         "alignmentgroup": "True",
         "hovertemplate": "variable=outer_attention<br>value=%{x}<extra></extra>",
         "legendgroup": "outer_attention",
         "marker": {
          "color": "#EF553B"
         },
         "name": "outer_attention",
         "notched": true,
         "offsetgroup": "outer_attention",
         "showlegend": false,
         "type": "box",
         "x": [
          0.0981697365641594,
          0.0999290719628334,
          0.09941013157367706,
          0.1001763641834259,
          0.09992665797472,
          0.10068748146295547,
          0.10036390274763107,
          0.10061275213956833,
          0.1008700281381607,
          0.09991586208343506,
          0.09989567846059799,
          0.10020970553159714,
          0.0978851169347763,
          0.10056623816490173,
          0.10062894970178604,
          0.10103892534971237,
          0.10096574574708939,
          0.10115548223257065,
          0.10112284868955612,
          0.10042685270309448,
          0.10097833722829819,
          0.10049359500408173,
          0.10044731944799423,
          0.09933426976203918,
          0.0887787938117981,
          0.0896756649017334,
          0.09032629430294037,
          0.0902719721198082,
          0.09028705954551697,
          0.09025153517723083,
          0.0910467654466629,
          0.09065316617488861,
          0.0906219407916069,
          0.08980362862348557,
          0.08991929143667221,
          0.08898038417100906,
          0.09781801700592041,
          0.10065552592277527,
          0.10102734714746475,
          0.10079331696033478,
          0.10095973312854767,
          0.10171405225992203,
          0.10150617361068726,
          0.10074622929096222,
          0.10052841156721115,
          0.10086045414209366,
          0.10101645439863205,
          0.10100935399532318,
          0.10096011310815811,
          0.10141939669847488,
          0.10164204239845276,
          0.10144922882318497,
          0.10141067206859589,
          0.10144193470478058,
          0.10158619284629822,
          0.10116665065288544,
          0.10076490789651871,
          0.1000988706946373,
          0.10057063400745392,
          0.09907520562410355,
          0.09861525148153305,
          0.09900883585214615,
          0.10022962093353271,
          0.10035404562950134,
          0.10017812252044678,
          0.10030785202980042
         ],
         "xaxis": "x2",
         "yaxis": "y2"
        },
        {
         "alignmentgroup": "True",
         "bingroup": "x",
         "hovertemplate": "variable=inner_attention<br>value=%{x}<br>count=%{y}<extra></extra>",
         "legendgroup": "inner_attention",
         "marker": {
          "color": "#00cc96",
          "opacity": 0.5,
          "pattern": {
           "shape": ""
          }
         },
         "name": "inner_attention",
         "nbinsx": 500,
         "offsetgroup": "inner_attention",
         "orientation": "v",
         "showlegend": true,
         "type": "histogram",
         "x": [
          0.10976474732160568,
          0.06164078414440155,
          0.07811370491981506,
          0.046967100352048874,
          0.056086327880620956,
          0.034206490963697433,
          0.04000081494450569,
          0.037829093635082245,
          0.038168974220752716,
          0.0749867707490921,
          0.08924712240695953,
          0.07010364532470703,
          0.15839633345603943,
          0.05151280388236046,
          0.057363804429769516,
          0.04686513915657997,
          0.051701050251722336,
          0.04750640317797661,
          0.05165762081742287,
          0.061592306941747665,
          0.044816140085458755,
          0.054314449429512024,
          0.06612347811460495,
          0.12432920187711716,
          0.12268895655870438,
          0.07072897255420685,
          0.057980142533779144,
          0.07459571957588196,
          0.06138063222169876,
          0.0676095262169838,
          0.044997379183769226,
          0.05425559729337692,
          0.055339571088552475,
          0.08308011293411255,
          0.08210905641317368,
          0.131850004196167,
          0.19946736097335815,
          0.04709809273481369,
          0.041463322937488556,
          0.04603061452507973,
          0.05339200794696808,
          0.026139508932828903,
          0.02940285950899124,
          0.062496036291122437,
          0.07882093638181686,
          0.05676930025219917,
          0.052816569805145264,
          0.052417557686567307,
          0.05167486518621445,
          0.04243774339556694,
          0.032193198800086975,
          0.03993823006749153,
          0.042416561394929886,
          0.04206698760390282,
          0.03809809312224388,
          0.04526548832654953,
          0.054504863917827606,
          0.06777042895555496,
          0.05165978521108627,
          0.13395416736602783,
          0.09622063487768173,
          0.0912751853466034,
          0.04485118389129639,
          0.03900981694459915,
          0.06453957408666611,
          0.06262338161468506
         ],
         "xaxis": "x",
         "yaxis": "y"
        },
        {
         "alignmentgroup": "True",
         "hovertemplate": "variable=inner_attention<br>value=%{x}<extra></extra>",
         "legendgroup": "inner_attention",
         "marker": {
          "color": "#00cc96"
         },
         "name": "inner_attention",
         "notched": true,
         "offsetgroup": "inner_attention",
         "showlegend": false,
         "type": "box",
         "x": [
          0.10976474732160568,
          0.06164078414440155,
          0.07811370491981506,
          0.046967100352048874,
          0.056086327880620956,
          0.034206490963697433,
          0.04000081494450569,
          0.037829093635082245,
          0.038168974220752716,
          0.0749867707490921,
          0.08924712240695953,
          0.07010364532470703,
          0.15839633345603943,
          0.05151280388236046,
          0.057363804429769516,
          0.04686513915657997,
          0.051701050251722336,
          0.04750640317797661,
          0.05165762081742287,
          0.061592306941747665,
          0.044816140085458755,
          0.054314449429512024,
          0.06612347811460495,
          0.12432920187711716,
          0.12268895655870438,
          0.07072897255420685,
          0.057980142533779144,
          0.07459571957588196,
          0.06138063222169876,
          0.0676095262169838,
          0.044997379183769226,
          0.05425559729337692,
          0.055339571088552475,
          0.08308011293411255,
          0.08210905641317368,
          0.131850004196167,
          0.19946736097335815,
          0.04709809273481369,
          0.041463322937488556,
          0.04603061452507973,
          0.05339200794696808,
          0.026139508932828903,
          0.02940285950899124,
          0.062496036291122437,
          0.07882093638181686,
          0.05676930025219917,
          0.052816569805145264,
          0.052417557686567307,
          0.05167486518621445,
          0.04243774339556694,
          0.032193198800086975,
          0.03993823006749153,
          0.042416561394929886,
          0.04206698760390282,
          0.03809809312224388,
          0.04526548832654953,
          0.054504863917827606,
          0.06777042895555496,
          0.05165978521108627,
          0.13395416736602783,
          0.09622063487768173,
          0.0912751853466034,
          0.04485118389129639,
          0.03900981694459915,
          0.06453957408666611,
          0.06262338161468506
         ],
         "xaxis": "x2",
         "yaxis": "y2"
        }
       ],
       "layout": {
        "barmode": "overlay",
        "legend": {
         "title": {
          "text": "variable"
         },
         "tracegroupgap": 0
        },
        "template": {
         "data": {
          "bar": [
           {
            "error_x": {
             "color": "#2a3f5f"
            },
            "error_y": {
             "color": "#2a3f5f"
            },
            "marker": {
             "line": {
              "color": "#E5ECF6",
              "width": 0.5
             },
             "pattern": {
              "fillmode": "overlay",
              "size": 10,
              "solidity": 0.2
             }
            },
            "type": "bar"
           }
          ],
          "barpolar": [
           {
            "marker": {
             "line": {
              "color": "#E5ECF6",
              "width": 0.5
             },
             "pattern": {
              "fillmode": "overlay",
              "size": 10,
              "solidity": 0.2
             }
            },
            "type": "barpolar"
           }
          ],
          "carpet": [
           {
            "aaxis": {
             "endlinecolor": "#2a3f5f",
             "gridcolor": "white",
             "linecolor": "white",
             "minorgridcolor": "white",
             "startlinecolor": "#2a3f5f"
            },
            "baxis": {
             "endlinecolor": "#2a3f5f",
             "gridcolor": "white",
             "linecolor": "white",
             "minorgridcolor": "white",
             "startlinecolor": "#2a3f5f"
            },
            "type": "carpet"
           }
          ],
          "choropleth": [
           {
            "colorbar": {
             "outlinewidth": 0,
             "ticks": ""
            },
            "type": "choropleth"
           }
          ],
          "contour": [
           {
            "colorbar": {
             "outlinewidth": 0,
             "ticks": ""
            },
            "colorscale": [
             [
              0,
              "#0d0887"
             ],
             [
              0.1111111111111111,
              "#46039f"
             ],
             [
              0.2222222222222222,
              "#7201a8"
             ],
             [
              0.3333333333333333,
              "#9c179e"
             ],
             [
              0.4444444444444444,
              "#bd3786"
             ],
             [
              0.5555555555555556,
              "#d8576b"
             ],
             [
              0.6666666666666666,
              "#ed7953"
             ],
             [
              0.7777777777777778,
              "#fb9f3a"
             ],
             [
              0.8888888888888888,
              "#fdca26"
             ],
             [
              1,
              "#f0f921"
             ]
            ],
            "type": "contour"
           }
          ],
          "contourcarpet": [
           {
            "colorbar": {
             "outlinewidth": 0,
             "ticks": ""
            },
            "type": "contourcarpet"
           }
          ],
          "heatmap": [
           {
            "colorbar": {
             "outlinewidth": 0,
             "ticks": ""
            },
            "colorscale": [
             [
              0,
              "#0d0887"
             ],
             [
              0.1111111111111111,
              "#46039f"
             ],
             [
              0.2222222222222222,
              "#7201a8"
             ],
             [
              0.3333333333333333,
              "#9c179e"
             ],
             [
              0.4444444444444444,
              "#bd3786"
             ],
             [
              0.5555555555555556,
              "#d8576b"
             ],
             [
              0.6666666666666666,
              "#ed7953"
             ],
             [
              0.7777777777777778,
              "#fb9f3a"
             ],
             [
              0.8888888888888888,
              "#fdca26"
             ],
             [
              1,
              "#f0f921"
             ]
            ],
            "type": "heatmap"
           }
          ],
          "heatmapgl": [
           {
            "colorbar": {
             "outlinewidth": 0,
             "ticks": ""
            },
            "colorscale": [
             [
              0,
              "#0d0887"
             ],
             [
              0.1111111111111111,
              "#46039f"
             ],
             [
              0.2222222222222222,
              "#7201a8"
             ],
             [
              0.3333333333333333,
              "#9c179e"
             ],
             [
              0.4444444444444444,
              "#bd3786"
             ],
             [
              0.5555555555555556,
              "#d8576b"
             ],
             [
              0.6666666666666666,
              "#ed7953"
             ],
             [
              0.7777777777777778,
              "#fb9f3a"
             ],
             [
              0.8888888888888888,
              "#fdca26"
             ],
             [
              1,
              "#f0f921"
             ]
            ],
            "type": "heatmapgl"
           }
          ],
          "histogram": [
           {
            "marker": {
             "pattern": {
              "fillmode": "overlay",
              "size": 10,
              "solidity": 0.2
             }
            },
            "type": "histogram"
           }
          ],
          "histogram2d": [
           {
            "colorbar": {
             "outlinewidth": 0,
             "ticks": ""
            },
            "colorscale": [
             [
              0,
              "#0d0887"
             ],
             [
              0.1111111111111111,
              "#46039f"
             ],
             [
              0.2222222222222222,
              "#7201a8"
             ],
             [
              0.3333333333333333,
              "#9c179e"
             ],
             [
              0.4444444444444444,
              "#bd3786"
             ],
             [
              0.5555555555555556,
              "#d8576b"
             ],
             [
              0.6666666666666666,
              "#ed7953"
             ],
             [
              0.7777777777777778,
              "#fb9f3a"
             ],
             [
              0.8888888888888888,
              "#fdca26"
             ],
             [
              1,
              "#f0f921"
             ]
            ],
            "type": "histogram2d"
           }
          ],
          "histogram2dcontour": [
           {
            "colorbar": {
             "outlinewidth": 0,
             "ticks": ""
            },
            "colorscale": [
             [
              0,
              "#0d0887"
             ],
             [
              0.1111111111111111,
              "#46039f"
             ],
             [
              0.2222222222222222,
              "#7201a8"
             ],
             [
              0.3333333333333333,
              "#9c179e"
             ],
             [
              0.4444444444444444,
              "#bd3786"
             ],
             [
              0.5555555555555556,
              "#d8576b"
             ],
             [
              0.6666666666666666,
              "#ed7953"
             ],
             [
              0.7777777777777778,
              "#fb9f3a"
             ],
             [
              0.8888888888888888,
              "#fdca26"
             ],
             [
              1,
              "#f0f921"
             ]
            ],
            "type": "histogram2dcontour"
           }
          ],
          "mesh3d": [
           {
            "colorbar": {
             "outlinewidth": 0,
             "ticks": ""
            },
            "type": "mesh3d"
           }
          ],
          "parcoords": [
           {
            "line": {
             "colorbar": {
              "outlinewidth": 0,
              "ticks": ""
             }
            },
            "type": "parcoords"
           }
          ],
          "pie": [
           {
            "automargin": true,
            "type": "pie"
           }
          ],
          "scatter": [
           {
            "fillpattern": {
             "fillmode": "overlay",
             "size": 10,
             "solidity": 0.2
            },
            "type": "scatter"
           }
          ],
          "scatter3d": [
           {
            "line": {
             "colorbar": {
              "outlinewidth": 0,
              "ticks": ""
             }
            },
            "marker": {
             "colorbar": {
              "outlinewidth": 0,
              "ticks": ""
             }
            },
            "type": "scatter3d"
           }
          ],
          "scattercarpet": [
           {
            "marker": {
             "colorbar": {
              "outlinewidth": 0,
              "ticks": ""
             }
            },
            "type": "scattercarpet"
           }
          ],
          "scattergeo": [
           {
            "marker": {
             "colorbar": {
              "outlinewidth": 0,
              "ticks": ""
             }
            },
            "type": "scattergeo"
           }
          ],
          "scattergl": [
           {
            "marker": {
             "colorbar": {
              "outlinewidth": 0,
              "ticks": ""
             }
            },
            "type": "scattergl"
           }
          ],
          "scattermapbox": [
           {
            "marker": {
             "colorbar": {
              "outlinewidth": 0,
              "ticks": ""
             }
            },
            "type": "scattermapbox"
           }
          ],
          "scatterpolar": [
           {
            "marker": {
             "colorbar": {
              "outlinewidth": 0,
              "ticks": ""
             }
            },
            "type": "scatterpolar"
           }
          ],
          "scatterpolargl": [
           {
            "marker": {
             "colorbar": {
              "outlinewidth": 0,
              "ticks": ""
             }
            },
            "type": "scatterpolargl"
           }
          ],
          "scatterternary": [
           {
            "marker": {
             "colorbar": {
              "outlinewidth": 0,
              "ticks": ""
             }
            },
            "type": "scatterternary"
           }
          ],
          "surface": [
           {
            "colorbar": {
             "outlinewidth": 0,
             "ticks": ""
            },
            "colorscale": [
             [
              0,
              "#0d0887"
             ],
             [
              0.1111111111111111,
              "#46039f"
             ],
             [
              0.2222222222222222,
              "#7201a8"
             ],
             [
              0.3333333333333333,
              "#9c179e"
             ],
             [
              0.4444444444444444,
              "#bd3786"
             ],
             [
              0.5555555555555556,
              "#d8576b"
             ],
             [
              0.6666666666666666,
              "#ed7953"
             ],
             [
              0.7777777777777778,
              "#fb9f3a"
             ],
             [
              0.8888888888888888,
              "#fdca26"
             ],
             [
              1,
              "#f0f921"
             ]
            ],
            "type": "surface"
           }
          ],
          "table": [
           {
            "cells": {
             "fill": {
              "color": "#EBF0F8"
             },
             "line": {
              "color": "white"
             }
            },
            "header": {
             "fill": {
              "color": "#C8D4E3"
             },
             "line": {
              "color": "white"
             }
            },
            "type": "table"
           }
          ]
         },
         "layout": {
          "annotationdefaults": {
           "arrowcolor": "#2a3f5f",
           "arrowhead": 0,
           "arrowwidth": 1
          },
          "autotypenumbers": "strict",
          "coloraxis": {
           "colorbar": {
            "outlinewidth": 0,
            "ticks": ""
           }
          },
          "colorscale": {
           "diverging": [
            [
             0,
             "#8e0152"
            ],
            [
             0.1,
             "#c51b7d"
            ],
            [
             0.2,
             "#de77ae"
            ],
            [
             0.3,
             "#f1b6da"
            ],
            [
             0.4,
             "#fde0ef"
            ],
            [
             0.5,
             "#f7f7f7"
            ],
            [
             0.6,
             "#e6f5d0"
            ],
            [
             0.7,
             "#b8e186"
            ],
            [
             0.8,
             "#7fbc41"
            ],
            [
             0.9,
             "#4d9221"
            ],
            [
             1,
             "#276419"
            ]
           ],
           "sequential": [
            [
             0,
             "#0d0887"
            ],
            [
             0.1111111111111111,
             "#46039f"
            ],
            [
             0.2222222222222222,
             "#7201a8"
            ],
            [
             0.3333333333333333,
             "#9c179e"
            ],
            [
             0.4444444444444444,
             "#bd3786"
            ],
            [
             0.5555555555555556,
             "#d8576b"
            ],
            [
             0.6666666666666666,
             "#ed7953"
            ],
            [
             0.7777777777777778,
             "#fb9f3a"
            ],
            [
             0.8888888888888888,
             "#fdca26"
            ],
            [
             1,
             "#f0f921"
            ]
           ],
           "sequentialminus": [
            [
             0,
             "#0d0887"
            ],
            [
             0.1111111111111111,
             "#46039f"
            ],
            [
             0.2222222222222222,
             "#7201a8"
            ],
            [
             0.3333333333333333,
             "#9c179e"
            ],
            [
             0.4444444444444444,
             "#bd3786"
            ],
            [
             0.5555555555555556,
             "#d8576b"
            ],
            [
             0.6666666666666666,
             "#ed7953"
            ],
            [
             0.7777777777777778,
             "#fb9f3a"
            ],
            [
             0.8888888888888888,
             "#fdca26"
            ],
            [
             1,
             "#f0f921"
            ]
           ]
          },
          "colorway": [
           "#636efa",
           "#EF553B",
           "#00cc96",
           "#ab63fa",
           "#FFA15A",
           "#19d3f3",
           "#FF6692",
           "#B6E880",
           "#FF97FF",
           "#FECB52"
          ],
          "font": {
           "color": "#2a3f5f"
          },
          "geo": {
           "bgcolor": "white",
           "lakecolor": "white",
           "landcolor": "#E5ECF6",
           "showlakes": true,
           "showland": true,
           "subunitcolor": "white"
          },
          "hoverlabel": {
           "align": "left"
          },
          "hovermode": "closest",
          "mapbox": {
           "style": "light"
          },
          "paper_bgcolor": "white",
          "plot_bgcolor": "#E5ECF6",
          "polar": {
           "angularaxis": {
            "gridcolor": "white",
            "linecolor": "white",
            "ticks": ""
           },
           "bgcolor": "#E5ECF6",
           "radialaxis": {
            "gridcolor": "white",
            "linecolor": "white",
            "ticks": ""
           }
          },
          "scene": {
           "xaxis": {
            "backgroundcolor": "#E5ECF6",
            "gridcolor": "white",
            "gridwidth": 2,
            "linecolor": "white",
            "showbackground": true,
            "ticks": "",
            "zerolinecolor": "white"
           },
           "yaxis": {
            "backgroundcolor": "#E5ECF6",
            "gridcolor": "white",
            "gridwidth": 2,
            "linecolor": "white",
            "showbackground": true,
            "ticks": "",
            "zerolinecolor": "white"
           },
           "zaxis": {
            "backgroundcolor": "#E5ECF6",
            "gridcolor": "white",
            "gridwidth": 2,
            "linecolor": "white",
            "showbackground": true,
            "ticks": "",
            "zerolinecolor": "white"
           }
          },
          "shapedefaults": {
           "line": {
            "color": "#2a3f5f"
           }
          },
          "ternary": {
           "aaxis": {
            "gridcolor": "white",
            "linecolor": "white",
            "ticks": ""
           },
           "baxis": {
            "gridcolor": "white",
            "linecolor": "white",
            "ticks": ""
           },
           "bgcolor": "#E5ECF6",
           "caxis": {
            "gridcolor": "white",
            "linecolor": "white",
            "ticks": ""
           }
          },
          "title": {
           "x": 0.05
          },
          "xaxis": {
           "automargin": true,
           "gridcolor": "white",
           "linecolor": "white",
           "ticks": "",
           "title": {
            "standoff": 15
           },
           "zerolinecolor": "white",
           "zerolinewidth": 2
          },
          "yaxis": {
           "automargin": true,
           "gridcolor": "white",
           "linecolor": "white",
           "ticks": "",
           "title": {
            "standoff": 15
           },
           "zerolinecolor": "white",
           "zerolinewidth": 2
          }
         }
        },
        "title": {
         "text": "Real Attention"
        },
        "xaxis": {
         "anchor": "y",
         "domain": [
          0,
          1
         ],
         "title": {
          "text": "value"
         }
        },
        "xaxis2": {
         "anchor": "y2",
         "domain": [
          0,
          1
         ],
         "matches": "x",
         "showgrid": true,
         "showticklabels": false
        },
        "yaxis": {
         "anchor": "x",
         "domain": [
          0,
          0.7326
         ],
         "title": {
          "text": "count"
         }
        },
        "yaxis2": {
         "anchor": "x2",
         "domain": [
          0.7426,
          1
         ],
         "matches": "y2",
         "showgrid": false,
         "showline": false,
         "showticklabels": false,
         "ticks": ""
        }
       }
      }
     },
     "metadata": {},
     "output_type": "display_data"
    }
   ],
   "source": [
    "\"\"\"Plot the attention distributions.\"\"\"\n",
    "px.histogram(\n",
    "    real_df,\n",
    "    x=[\"attention\", \"outer_attention\", \"inner_attention\"],\n",
    "    marginal=\"box\",\n",
    "    barmode=\"overlay\",\n",
    "    # facet_row=\"encoder\",\n",
    "    nbins=500,\n",
    "    title=\"Real Attention\",\n",
    ")"
   ]
  }
 ],
 "metadata": {
  "kernelspec": {
   "display_name": "attlike",
   "language": "python",
   "name": "python3"
  },
  "language_info": {
   "codemirror_mode": {
    "name": "ipython",
    "version": 3
   },
   "file_extension": ".py",
   "mimetype": "text/x-python",
   "name": "python",
   "nbconvert_exporter": "python",
   "pygments_lexer": "ipython3",
   "version": "3.10.10"
  },
  "vscode": {
   "interpreter": {
    "hash": "e190c64035ea994edb35a95c6b38ed865775c81e6eda414744506182cf5d7912"
   }
  }
 },
 "nbformat": 4,
 "nbformat_minor": 2
}
